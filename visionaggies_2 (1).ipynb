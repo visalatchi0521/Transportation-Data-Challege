{
 "cells": [
  {
   "cell_type": "code",
   "execution_count": 4,
   "metadata": {},
   "outputs": [
    {
     "name": "stdout",
     "output_type": "stream",
     "text": [
      "C:\\Users\\Sruthi Ashraf\\Downloads\\AED50_Challenge_Data_23Nov\\AED50_Challenge_Data\\Competition_Data\\Lidar\n"
     ]
    },
    {
     "data": {
      "text/html": [
       "<div>\n",
       "<style scoped>\n",
       "    .dataframe tbody tr th:only-of-type {\n",
       "        vertical-align: middle;\n",
       "    }\n",
       "\n",
       "    .dataframe tbody tr th {\n",
       "        vertical-align: top;\n",
       "    }\n",
       "\n",
       "    .dataframe thead th {\n",
       "        text-align: right;\n",
       "    }\n",
       "</style>\n",
       "<table border=\"1\" class=\"dataframe\">\n",
       "  <thead>\n",
       "    <tr style=\"text-align: right;\">\n",
       "      <th></th>\n",
       "      <th>Timestamp</th>\n",
       "      <th>ID</th>\n",
       "      <th>Label</th>\n",
       "      <th>Confidence</th>\n",
       "      <th>BBox_Position_X</th>\n",
       "      <th>BBox_Position_Y</th>\n",
       "      <th>BBox_Size_X</th>\n",
       "      <th>BBox_Size_Y</th>\n",
       "      <th>BBox_Size_Z</th>\n",
       "      <th>BBox_Yaw</th>\n",
       "      <th>Velocity_X</th>\n",
       "      <th>Velocity_Y</th>\n",
       "      <th>Tracking_Status</th>\n",
       "    </tr>\n",
       "  </thead>\n",
       "  <tbody>\n",
       "    <tr>\n",
       "      <th>0</th>\n",
       "      <td>1633705176084</td>\n",
       "      <td>351284</td>\n",
       "      <td>1</td>\n",
       "      <td>0.663271</td>\n",
       "      <td>3.119813</td>\n",
       "      <td>11.643920</td>\n",
       "      <td>4.820237</td>\n",
       "      <td>2.509954</td>\n",
       "      <td>0.982162</td>\n",
       "      <td>1.068359</td>\n",
       "      <td>5.313779</td>\n",
       "      <td>9.383846e+00</td>\n",
       "      <td>3</td>\n",
       "    </tr>\n",
       "    <tr>\n",
       "      <th>1</th>\n",
       "      <td>1633705176084</td>\n",
       "      <td>351314</td>\n",
       "      <td>4</td>\n",
       "      <td>0.280000</td>\n",
       "      <td>-2.546913</td>\n",
       "      <td>-9.031250</td>\n",
       "      <td>0.700000</td>\n",
       "      <td>0.700000</td>\n",
       "      <td>1.674027</td>\n",
       "      <td>3.620596</td>\n",
       "      <td>-0.000767</td>\n",
       "      <td>1.420000e-12</td>\n",
       "      <td>1</td>\n",
       "    </tr>\n",
       "    <tr>\n",
       "      <th>2</th>\n",
       "      <td>1633705176084</td>\n",
       "      <td>351305</td>\n",
       "      <td>2</td>\n",
       "      <td>0.557778</td>\n",
       "      <td>17.113178</td>\n",
       "      <td>-12.025629</td>\n",
       "      <td>0.117142</td>\n",
       "      <td>0.482906</td>\n",
       "      <td>1.469934</td>\n",
       "      <td>4.994645</td>\n",
       "      <td>0.296628</td>\n",
       "      <td>-1.022861e+00</td>\n",
       "      <td>4</td>\n",
       "    </tr>\n",
       "    <tr>\n",
       "      <th>3</th>\n",
       "      <td>1633705176084</td>\n",
       "      <td>351304</td>\n",
       "      <td>2</td>\n",
       "      <td>0.498057</td>\n",
       "      <td>-14.341146</td>\n",
       "      <td>10.672971</td>\n",
       "      <td>0.139692</td>\n",
       "      <td>0.358661</td>\n",
       "      <td>1.636156</td>\n",
       "      <td>3.617036</td>\n",
       "      <td>-1.280785</td>\n",
       "      <td>-6.593904e-01</td>\n",
       "      <td>4</td>\n",
       "    </tr>\n",
       "    <tr>\n",
       "      <th>4</th>\n",
       "      <td>1633705176187</td>\n",
       "      <td>351284</td>\n",
       "      <td>1</td>\n",
       "      <td>0.633271</td>\n",
       "      <td>3.716784</td>\n",
       "      <td>12.510355</td>\n",
       "      <td>4.720977</td>\n",
       "      <td>2.438679</td>\n",
       "      <td>1.003231</td>\n",
       "      <td>1.099034</td>\n",
       "      <td>5.062372</td>\n",
       "      <td>8.908297e+00</td>\n",
       "      <td>3</td>\n",
       "    </tr>\n",
       "  </tbody>\n",
       "</table>\n",
       "</div>"
      ],
      "text/plain": [
       "       Timestamp      ID  Label  Confidence  BBox_Position_X  BBox_Position_Y  \\\n",
       "0  1633705176084  351284      1    0.663271         3.119813        11.643920   \n",
       "1  1633705176084  351314      4    0.280000        -2.546913        -9.031250   \n",
       "2  1633705176084  351305      2    0.557778        17.113178       -12.025629   \n",
       "3  1633705176084  351304      2    0.498057       -14.341146        10.672971   \n",
       "4  1633705176187  351284      1    0.633271         3.716784        12.510355   \n",
       "\n",
       "   BBox_Size_X  BBox_Size_Y  BBox_Size_Z  BBox_Yaw  Velocity_X    Velocity_Y  \\\n",
       "0     4.820237     2.509954     0.982162  1.068359    5.313779  9.383846e+00   \n",
       "1     0.700000     0.700000     1.674027  3.620596   -0.000767  1.420000e-12   \n",
       "2     0.117142     0.482906     1.469934  4.994645    0.296628 -1.022861e+00   \n",
       "3     0.139692     0.358661     1.636156  3.617036   -1.280785 -6.593904e-01   \n",
       "4     4.720977     2.438679     1.003231  1.099034    5.062372  8.908297e+00   \n",
       "\n",
       "   Tracking_Status  \n",
       "0                3  \n",
       "1                1  \n",
       "2                4  \n",
       "3                4  \n",
       "4                3  "
      ]
     },
     "execution_count": 4,
     "metadata": {},
     "output_type": "execute_result"
    }
   ],
   "source": [
    "#reading dataset\n",
    "import pandas as pd\n",
    "import numpy as np\n",
    "%cd C:\\Users\\Sruthi Ashraf\\Downloads\\AED50_Challenge_Data_23Nov\\AED50_Challenge_Data\\Competition_Data\\Lidar\n",
    "Lidar=pd.read_csv('collection_one.csv') \n",
    "Lidar.head()"
   ]
  },
  {
   "cell_type": "code",
   "execution_count": null,
   "metadata": {},
   "outputs": [],
   "source": [
    "#taking a copy of the dataset to perform appropriate modification\n",
    "df=Lidar.copy()"
   ]
  },
  {
   "cell_type": "code",
   "execution_count": null,
   "metadata": {
    "scrolled": true
   },
   "outputs": [],
   "source": [
    "df.head()"
   ]
  },
  {
   "cell_type": "code",
   "execution_count": 68,
   "metadata": {},
   "outputs": [
    {
     "name": "stdout",
     "output_type": "stream",
     "text": [
      "<class 'pandas.core.frame.DataFrame'>\n",
      "RangeIndex: 41130 entries, 0 to 41129\n",
      "Data columns (total 13 columns):\n",
      " #   Column           Non-Null Count  Dtype  \n",
      "---  ------           --------------  -----  \n",
      " 0   Timestamp        41130 non-null  int64  \n",
      " 1   ID               41130 non-null  int64  \n",
      " 2   Label            41130 non-null  int64  \n",
      " 3   Confidence       41130 non-null  float64\n",
      " 4   BBox_Position_X  41130 non-null  float64\n",
      " 5   BBox_Position_Y  41130 non-null  float64\n",
      " 6   BBox_Size_X      41130 non-null  float64\n",
      " 7   BBox_Size_Y      41130 non-null  float64\n",
      " 8   BBox_Size_Z      41130 non-null  float64\n",
      " 9   BBox_Yaw         41130 non-null  float64\n",
      " 10  Velocity_X       41130 non-null  float64\n",
      " 11  Velocity_Y       41130 non-null  float64\n",
      " 12  Tracking_Status  41130 non-null  int64  \n",
      "dtypes: float64(9), int64(4)\n",
      "memory usage: 4.1 MB\n"
     ]
    }
   ],
   "source": [
    "# getting the datatype info of each column.Looks like we need to change the datatype for timestamp\n",
    "df.info()"
   ]
  },
  {
   "cell_type": "code",
   "execution_count": 69,
   "metadata": {
    "scrolled": true
   },
   "outputs": [
    {
     "data": {
      "text/plain": [
       "'2021-10-08 10:00:30'"
      ]
     },
     "execution_count": 69,
     "metadata": {},
     "output_type": "execute_result"
    }
   ],
   "source": [
    "import datetime\n",
    "\n",
    "d=1633705230077\n",
    "x=datetime.datetime.fromtimestamp(int(d/1000))\n",
    "x=x.strftime(\"%Y-%m-%d %H:%M:%S\")\n",
    "x"
   ]
  },
  {
   "cell_type": "code",
   "execution_count": 70,
   "metadata": {},
   "outputs": [
    {
     "data": {
      "text/plain": [
       "str"
      ]
     },
     "execution_count": 70,
     "metadata": {},
     "output_type": "execute_result"
    }
   ],
   "source": [
    "type(x)"
   ]
  },
  {
   "cell_type": "code",
   "execution_count": 71,
   "metadata": {},
   "outputs": [],
   "source": [
    "#converting unix timestamp to datetime format\n",
    "df['Timestamp']=pd.to_datetime(df['Timestamp'], unit='ms')"
   ]
  },
  {
   "cell_type": "code",
   "execution_count": 72,
   "metadata": {},
   "outputs": [
    {
     "data": {
      "text/html": [
       "<div>\n",
       "<style scoped>\n",
       "    .dataframe tbody tr th:only-of-type {\n",
       "        vertical-align: middle;\n",
       "    }\n",
       "\n",
       "    .dataframe tbody tr th {\n",
       "        vertical-align: top;\n",
       "    }\n",
       "\n",
       "    .dataframe thead th {\n",
       "        text-align: right;\n",
       "    }\n",
       "</style>\n",
       "<table border=\"1\" class=\"dataframe\">\n",
       "  <thead>\n",
       "    <tr style=\"text-align: right;\">\n",
       "      <th></th>\n",
       "      <th>Timestamp</th>\n",
       "      <th>ID</th>\n",
       "      <th>Label</th>\n",
       "      <th>Confidence</th>\n",
       "      <th>BBox_Position_X</th>\n",
       "      <th>BBox_Position_Y</th>\n",
       "      <th>BBox_Size_X</th>\n",
       "      <th>BBox_Size_Y</th>\n",
       "      <th>BBox_Size_Z</th>\n",
       "      <th>BBox_Yaw</th>\n",
       "      <th>Velocity_X</th>\n",
       "      <th>Velocity_Y</th>\n",
       "      <th>Tracking_Status</th>\n",
       "    </tr>\n",
       "  </thead>\n",
       "  <tbody>\n",
       "    <tr>\n",
       "      <th>0</th>\n",
       "      <td>2021-10-08 14:59:36.084</td>\n",
       "      <td>351284</td>\n",
       "      <td>1</td>\n",
       "      <td>0.663271</td>\n",
       "      <td>3.119813</td>\n",
       "      <td>11.643920</td>\n",
       "      <td>4.820237</td>\n",
       "      <td>2.509954</td>\n",
       "      <td>0.982162</td>\n",
       "      <td>1.068359</td>\n",
       "      <td>5.313779</td>\n",
       "      <td>9.383846e+00</td>\n",
       "      <td>3</td>\n",
       "    </tr>\n",
       "    <tr>\n",
       "      <th>1</th>\n",
       "      <td>2021-10-08 14:59:36.084</td>\n",
       "      <td>351314</td>\n",
       "      <td>4</td>\n",
       "      <td>0.280000</td>\n",
       "      <td>-2.546913</td>\n",
       "      <td>-9.031250</td>\n",
       "      <td>0.700000</td>\n",
       "      <td>0.700000</td>\n",
       "      <td>1.674027</td>\n",
       "      <td>3.620596</td>\n",
       "      <td>-0.000767</td>\n",
       "      <td>1.420000e-12</td>\n",
       "      <td>1</td>\n",
       "    </tr>\n",
       "    <tr>\n",
       "      <th>2</th>\n",
       "      <td>2021-10-08 14:59:36.084</td>\n",
       "      <td>351305</td>\n",
       "      <td>2</td>\n",
       "      <td>0.557778</td>\n",
       "      <td>17.113178</td>\n",
       "      <td>-12.025629</td>\n",
       "      <td>0.117142</td>\n",
       "      <td>0.482906</td>\n",
       "      <td>1.469934</td>\n",
       "      <td>4.994645</td>\n",
       "      <td>0.296628</td>\n",
       "      <td>-1.022861e+00</td>\n",
       "      <td>4</td>\n",
       "    </tr>\n",
       "    <tr>\n",
       "      <th>3</th>\n",
       "      <td>2021-10-08 14:59:36.084</td>\n",
       "      <td>351304</td>\n",
       "      <td>2</td>\n",
       "      <td>0.498057</td>\n",
       "      <td>-14.341146</td>\n",
       "      <td>10.672971</td>\n",
       "      <td>0.139692</td>\n",
       "      <td>0.358661</td>\n",
       "      <td>1.636156</td>\n",
       "      <td>3.617036</td>\n",
       "      <td>-1.280785</td>\n",
       "      <td>-6.593904e-01</td>\n",
       "      <td>4</td>\n",
       "    </tr>\n",
       "    <tr>\n",
       "      <th>4</th>\n",
       "      <td>2021-10-08 14:59:36.187</td>\n",
       "      <td>351284</td>\n",
       "      <td>1</td>\n",
       "      <td>0.633271</td>\n",
       "      <td>3.716784</td>\n",
       "      <td>12.510355</td>\n",
       "      <td>4.720977</td>\n",
       "      <td>2.438679</td>\n",
       "      <td>1.003231</td>\n",
       "      <td>1.099034</td>\n",
       "      <td>5.062372</td>\n",
       "      <td>8.908297e+00</td>\n",
       "      <td>3</td>\n",
       "    </tr>\n",
       "  </tbody>\n",
       "</table>\n",
       "</div>"
      ],
      "text/plain": [
       "                Timestamp      ID  Label  Confidence  BBox_Position_X  \\\n",
       "0 2021-10-08 14:59:36.084  351284      1    0.663271         3.119813   \n",
       "1 2021-10-08 14:59:36.084  351314      4    0.280000        -2.546913   \n",
       "2 2021-10-08 14:59:36.084  351305      2    0.557778        17.113178   \n",
       "3 2021-10-08 14:59:36.084  351304      2    0.498057       -14.341146   \n",
       "4 2021-10-08 14:59:36.187  351284      1    0.633271         3.716784   \n",
       "\n",
       "   BBox_Position_Y  BBox_Size_X  BBox_Size_Y  BBox_Size_Z  BBox_Yaw  \\\n",
       "0        11.643920     4.820237     2.509954     0.982162  1.068359   \n",
       "1        -9.031250     0.700000     0.700000     1.674027  3.620596   \n",
       "2       -12.025629     0.117142     0.482906     1.469934  4.994645   \n",
       "3        10.672971     0.139692     0.358661     1.636156  3.617036   \n",
       "4        12.510355     4.720977     2.438679     1.003231  1.099034   \n",
       "\n",
       "   Velocity_X    Velocity_Y  Tracking_Status  \n",
       "0    5.313779  9.383846e+00                3  \n",
       "1   -0.000767  1.420000e-12                1  \n",
       "2    0.296628 -1.022861e+00                4  \n",
       "3   -1.280785 -6.593904e-01                4  \n",
       "4    5.062372  8.908297e+00                3  "
      ]
     },
     "execution_count": 72,
     "metadata": {},
     "output_type": "execute_result"
    }
   ],
   "source": [
    "#checking whether the datetime conversion took place\n",
    "df.head()"
   ]
  },
  {
   "cell_type": "code",
   "execution_count": 73,
   "metadata": {},
   "outputs": [
    {
     "name": "stdout",
     "output_type": "stream",
     "text": [
      "<class 'pandas.core.frame.DataFrame'>\n",
      "RangeIndex: 41130 entries, 0 to 41129\n",
      "Data columns (total 13 columns):\n",
      " #   Column           Non-Null Count  Dtype         \n",
      "---  ------           --------------  -----         \n",
      " 0   Timestamp        41130 non-null  datetime64[ns]\n",
      " 1   ID               41130 non-null  int64         \n",
      " 2   Label            41130 non-null  int64         \n",
      " 3   Confidence       41130 non-null  float64       \n",
      " 4   BBox_Position_X  41130 non-null  float64       \n",
      " 5   BBox_Position_Y  41130 non-null  float64       \n",
      " 6   BBox_Size_X      41130 non-null  float64       \n",
      " 7   BBox_Size_Y      41130 non-null  float64       \n",
      " 8   BBox_Size_Z      41130 non-null  float64       \n",
      " 9   BBox_Yaw         41130 non-null  float64       \n",
      " 10  Velocity_X       41130 non-null  float64       \n",
      " 11  Velocity_Y       41130 non-null  float64       \n",
      " 12  Tracking_Status  41130 non-null  int64         \n",
      "dtypes: datetime64[ns](1), float64(9), int64(3)\n",
      "memory usage: 4.1 MB\n"
     ]
    }
   ],
   "source": [
    "df.info()"
   ]
  },
  {
   "cell_type": "code",
   "execution_count": 74,
   "metadata": {},
   "outputs": [
    {
     "data": {
      "text/html": [
       "<div>\n",
       "<style scoped>\n",
       "    .dataframe tbody tr th:only-of-type {\n",
       "        vertical-align: middle;\n",
       "    }\n",
       "\n",
       "    .dataframe tbody tr th {\n",
       "        vertical-align: top;\n",
       "    }\n",
       "\n",
       "    .dataframe thead th {\n",
       "        text-align: right;\n",
       "    }\n",
       "</style>\n",
       "<table border=\"1\" class=\"dataframe\">\n",
       "  <thead>\n",
       "    <tr style=\"text-align: right;\">\n",
       "      <th></th>\n",
       "      <th>Timestamp</th>\n",
       "      <th>ID</th>\n",
       "      <th>Label</th>\n",
       "      <th>Confidence</th>\n",
       "      <th>BBox_Position_X</th>\n",
       "      <th>BBox_Position_Y</th>\n",
       "      <th>BBox_Size_X</th>\n",
       "      <th>BBox_Size_Y</th>\n",
       "      <th>BBox_Size_Z</th>\n",
       "      <th>BBox_Yaw</th>\n",
       "      <th>Velocity_X</th>\n",
       "      <th>Velocity_Y</th>\n",
       "      <th>Tracking_Status</th>\n",
       "    </tr>\n",
       "  </thead>\n",
       "  <tbody>\n",
       "    <tr>\n",
       "      <th>131</th>\n",
       "      <td>2021-10-08 14:59:40.025</td>\n",
       "      <td>351315</td>\n",
       "      <td>1</td>\n",
       "      <td>0.856623</td>\n",
       "      <td>-9.696652</td>\n",
       "      <td>8.951242</td>\n",
       "      <td>5.036574</td>\n",
       "      <td>2.264301</td>\n",
       "      <td>1.591564</td>\n",
       "      <td>4.767560</td>\n",
       "      <td>1.134256</td>\n",
       "      <td>-3.397135</td>\n",
       "      <td>3</td>\n",
       "    </tr>\n",
       "    <tr>\n",
       "      <th>136</th>\n",
       "      <td>2021-10-08 14:59:40.142</td>\n",
       "      <td>351315</td>\n",
       "      <td>1</td>\n",
       "      <td>0.856623</td>\n",
       "      <td>-9.754591</td>\n",
       "      <td>8.547807</td>\n",
       "      <td>5.030963</td>\n",
       "      <td>2.310379</td>\n",
       "      <td>1.614138</td>\n",
       "      <td>4.751935</td>\n",
       "      <td>0.880594</td>\n",
       "      <td>-3.549629</td>\n",
       "      <td>3</td>\n",
       "    </tr>\n",
       "    <tr>\n",
       "      <th>141</th>\n",
       "      <td>2021-10-08 14:59:40.265</td>\n",
       "      <td>351315</td>\n",
       "      <td>1</td>\n",
       "      <td>0.856623</td>\n",
       "      <td>-9.795122</td>\n",
       "      <td>8.131456</td>\n",
       "      <td>5.022789</td>\n",
       "      <td>2.287740</td>\n",
       "      <td>1.616750</td>\n",
       "      <td>4.708975</td>\n",
       "      <td>0.687511</td>\n",
       "      <td>-3.678052</td>\n",
       "      <td>3</td>\n",
       "    </tr>\n",
       "    <tr>\n",
       "      <th>146</th>\n",
       "      <td>2021-10-08 14:59:40.383</td>\n",
       "      <td>351315</td>\n",
       "      <td>1</td>\n",
       "      <td>0.856623</td>\n",
       "      <td>-9.827881</td>\n",
       "      <td>7.629484</td>\n",
       "      <td>5.039062</td>\n",
       "      <td>2.281080</td>\n",
       "      <td>1.635106</td>\n",
       "      <td>4.631827</td>\n",
       "      <td>0.514469</td>\n",
       "      <td>-3.826291</td>\n",
       "      <td>3</td>\n",
       "    </tr>\n",
       "    <tr>\n",
       "      <th>152</th>\n",
       "      <td>2021-10-08 14:59:40.511</td>\n",
       "      <td>351315</td>\n",
       "      <td>1</td>\n",
       "      <td>0.856623</td>\n",
       "      <td>-9.967152</td>\n",
       "      <td>7.163572</td>\n",
       "      <td>5.039062</td>\n",
       "      <td>2.258636</td>\n",
       "      <td>1.645422</td>\n",
       "      <td>4.566397</td>\n",
       "      <td>0.195588</td>\n",
       "      <td>-3.971758</td>\n",
       "      <td>3</td>\n",
       "    </tr>\n",
       "    <tr>\n",
       "      <th>...</th>\n",
       "      <td>...</td>\n",
       "      <td>...</td>\n",
       "      <td>...</td>\n",
       "      <td>...</td>\n",
       "      <td>...</td>\n",
       "      <td>...</td>\n",
       "      <td>...</td>\n",
       "      <td>...</td>\n",
       "      <td>...</td>\n",
       "      <td>...</td>\n",
       "      <td>...</td>\n",
       "      <td>...</td>\n",
       "      <td>...</td>\n",
       "    </tr>\n",
       "    <tr>\n",
       "      <th>41105</th>\n",
       "      <td>2021-10-08 15:12:02.181</td>\n",
       "      <td>353532</td>\n",
       "      <td>1</td>\n",
       "      <td>0.882369</td>\n",
       "      <td>21.000265</td>\n",
       "      <td>-0.694972</td>\n",
       "      <td>5.350011</td>\n",
       "      <td>2.093307</td>\n",
       "      <td>2.090947</td>\n",
       "      <td>2.521475</td>\n",
       "      <td>-0.166951</td>\n",
       "      <td>0.054942</td>\n",
       "      <td>3</td>\n",
       "    </tr>\n",
       "    <tr>\n",
       "      <th>41110</th>\n",
       "      <td>2021-10-08 15:12:02.280</td>\n",
       "      <td>353532</td>\n",
       "      <td>1</td>\n",
       "      <td>0.882369</td>\n",
       "      <td>20.977613</td>\n",
       "      <td>-0.679461</td>\n",
       "      <td>5.333760</td>\n",
       "      <td>2.090616</td>\n",
       "      <td>2.094396</td>\n",
       "      <td>2.520987</td>\n",
       "      <td>-0.176797</td>\n",
       "      <td>0.059843</td>\n",
       "      <td>3</td>\n",
       "    </tr>\n",
       "    <tr>\n",
       "      <th>41115</th>\n",
       "      <td>2021-10-08 15:12:02.405</td>\n",
       "      <td>353532</td>\n",
       "      <td>1</td>\n",
       "      <td>0.882369</td>\n",
       "      <td>20.978941</td>\n",
       "      <td>-0.663778</td>\n",
       "      <td>5.318353</td>\n",
       "      <td>2.086633</td>\n",
       "      <td>2.118410</td>\n",
       "      <td>2.514639</td>\n",
       "      <td>-0.173436</td>\n",
       "      <td>0.069674</td>\n",
       "      <td>3</td>\n",
       "    </tr>\n",
       "    <tr>\n",
       "      <th>41120</th>\n",
       "      <td>2021-10-08 15:12:02.512</td>\n",
       "      <td>353532</td>\n",
       "      <td>1</td>\n",
       "      <td>0.882369</td>\n",
       "      <td>20.940092</td>\n",
       "      <td>-0.638137</td>\n",
       "      <td>5.310736</td>\n",
       "      <td>2.084415</td>\n",
       "      <td>2.106011</td>\n",
       "      <td>2.523428</td>\n",
       "      <td>-0.192499</td>\n",
       "      <td>0.089767</td>\n",
       "      <td>3</td>\n",
       "    </tr>\n",
       "    <tr>\n",
       "      <th>41125</th>\n",
       "      <td>2021-10-08 15:12:02.615</td>\n",
       "      <td>353532</td>\n",
       "      <td>1</td>\n",
       "      <td>0.882369</td>\n",
       "      <td>20.953213</td>\n",
       "      <td>-0.604974</td>\n",
       "      <td>5.283923</td>\n",
       "      <td>2.078435</td>\n",
       "      <td>2.155538</td>\n",
       "      <td>2.501456</td>\n",
       "      <td>-0.173697</td>\n",
       "      <td>0.108786</td>\n",
       "      <td>3</td>\n",
       "    </tr>\n",
       "  </tbody>\n",
       "</table>\n",
       "<p>9602 rows × 13 columns</p>\n",
       "</div>"
      ],
      "text/plain": [
       "                    Timestamp      ID  Label  Confidence  BBox_Position_X  \\\n",
       "131   2021-10-08 14:59:40.025  351315      1    0.856623        -9.696652   \n",
       "136   2021-10-08 14:59:40.142  351315      1    0.856623        -9.754591   \n",
       "141   2021-10-08 14:59:40.265  351315      1    0.856623        -9.795122   \n",
       "146   2021-10-08 14:59:40.383  351315      1    0.856623        -9.827881   \n",
       "152   2021-10-08 14:59:40.511  351315      1    0.856623        -9.967152   \n",
       "...                       ...     ...    ...         ...              ...   \n",
       "41105 2021-10-08 15:12:02.181  353532      1    0.882369        21.000265   \n",
       "41110 2021-10-08 15:12:02.280  353532      1    0.882369        20.977613   \n",
       "41115 2021-10-08 15:12:02.405  353532      1    0.882369        20.978941   \n",
       "41120 2021-10-08 15:12:02.512  353532      1    0.882369        20.940092   \n",
       "41125 2021-10-08 15:12:02.615  353532      1    0.882369        20.953213   \n",
       "\n",
       "       BBox_Position_Y  BBox_Size_X  BBox_Size_Y  BBox_Size_Z  BBox_Yaw  \\\n",
       "131           8.951242     5.036574     2.264301     1.591564  4.767560   \n",
       "136           8.547807     5.030963     2.310379     1.614138  4.751935   \n",
       "141           8.131456     5.022789     2.287740     1.616750  4.708975   \n",
       "146           7.629484     5.039062     2.281080     1.635106  4.631827   \n",
       "152           7.163572     5.039062     2.258636     1.645422  4.566397   \n",
       "...                ...          ...          ...          ...       ...   \n",
       "41105        -0.694972     5.350011     2.093307     2.090947  2.521475   \n",
       "41110        -0.679461     5.333760     2.090616     2.094396  2.520987   \n",
       "41115        -0.663778     5.318353     2.086633     2.118410  2.514639   \n",
       "41120        -0.638137     5.310736     2.084415     2.106011  2.523428   \n",
       "41125        -0.604974     5.283923     2.078435     2.155538  2.501456   \n",
       "\n",
       "       Velocity_X  Velocity_Y  Tracking_Status  \n",
       "131      1.134256   -3.397135                3  \n",
       "136      0.880594   -3.549629                3  \n",
       "141      0.687511   -3.678052                3  \n",
       "146      0.514469   -3.826291                3  \n",
       "152      0.195588   -3.971758                3  \n",
       "...           ...         ...              ...  \n",
       "41105   -0.166951    0.054942                3  \n",
       "41110   -0.176797    0.059843                3  \n",
       "41115   -0.173436    0.069674                3  \n",
       "41120   -0.192499    0.089767                3  \n",
       "41125   -0.173697    0.108786                3  \n",
       "\n",
       "[9602 rows x 13 columns]"
      ]
     },
     "execution_count": 74,
     "metadata": {},
     "output_type": "execute_result"
    }
   ],
   "source": [
    "#looking for cars with more than 85% confidence\n",
    "df[(df['Confidence'] > 0.85) & (df['Label'] == 1)]"
   ]
  },
  {
   "cell_type": "code",
   "execution_count": 75,
   "metadata": {
    "scrolled": true
   },
   "outputs": [],
   "source": [
    "#None (0), Car (1), Pedestrian (2), Cyclist (3), Misc (4)\n",
    "#dataset that remains after removing cars with more than 85% confidence\n",
    "df=pd.concat([df,df[(df['Confidence'] > 0.85) & (df['Label'] == 1)]]).drop_duplicates(keep=False)"
   ]
  },
  {
   "cell_type": "code",
   "execution_count": 76,
   "metadata": {
    "scrolled": true
   },
   "outputs": [
    {
     "data": {
      "text/html": [
       "<div>\n",
       "<style scoped>\n",
       "    .dataframe tbody tr th:only-of-type {\n",
       "        vertical-align: middle;\n",
       "    }\n",
       "\n",
       "    .dataframe tbody tr th {\n",
       "        vertical-align: top;\n",
       "    }\n",
       "\n",
       "    .dataframe thead th {\n",
       "        text-align: right;\n",
       "    }\n",
       "</style>\n",
       "<table border=\"1\" class=\"dataframe\">\n",
       "  <thead>\n",
       "    <tr style=\"text-align: right;\">\n",
       "      <th></th>\n",
       "      <th>ID</th>\n",
       "      <th>Label</th>\n",
       "      <th>Confidence</th>\n",
       "      <th>BBox_Position_X</th>\n",
       "      <th>BBox_Position_Y</th>\n",
       "      <th>BBox_Size_X</th>\n",
       "      <th>BBox_Size_Y</th>\n",
       "      <th>BBox_Size_Z</th>\n",
       "      <th>BBox_Yaw</th>\n",
       "      <th>Velocity_X</th>\n",
       "      <th>Velocity_Y</th>\n",
       "      <th>Tracking_Status</th>\n",
       "    </tr>\n",
       "  </thead>\n",
       "  <tbody>\n",
       "    <tr>\n",
       "      <th>count</th>\n",
       "      <td>31528.000000</td>\n",
       "      <td>31528.000000</td>\n",
       "      <td>31528.000000</td>\n",
       "      <td>31528.000000</td>\n",
       "      <td>31528.000000</td>\n",
       "      <td>31528.000000</td>\n",
       "      <td>31528.000000</td>\n",
       "      <td>31528.000000</td>\n",
       "      <td>31528.000000</td>\n",
       "      <td>31528.000000</td>\n",
       "      <td>31528.000000</td>\n",
       "      <td>31528.000000</td>\n",
       "    </tr>\n",
       "    <tr>\n",
       "      <th>mean</th>\n",
       "      <td>352442.187008</td>\n",
       "      <td>1.886672</td>\n",
       "      <td>0.628130</td>\n",
       "      <td>1.392738</td>\n",
       "      <td>6.249248</td>\n",
       "      <td>2.504964</td>\n",
       "      <td>1.809304</td>\n",
       "      <td>1.655885</td>\n",
       "      <td>3.510109</td>\n",
       "      <td>-0.061631</td>\n",
       "      <td>0.063867</td>\n",
       "      <td>2.759071</td>\n",
       "    </tr>\n",
       "    <tr>\n",
       "      <th>std</th>\n",
       "      <td>589.756427</td>\n",
       "      <td>1.024552</td>\n",
       "      <td>0.181825</td>\n",
       "      <td>12.002700</td>\n",
       "      <td>11.138796</td>\n",
       "      <td>2.143320</td>\n",
       "      <td>1.463001</td>\n",
       "      <td>0.505695</td>\n",
       "      <td>2.069745</td>\n",
       "      <td>1.981518</td>\n",
       "      <td>2.865030</td>\n",
       "      <td>0.836072</td>\n",
       "    </tr>\n",
       "    <tr>\n",
       "      <th>min</th>\n",
       "      <td>351284.000000</td>\n",
       "      <td>0.000000</td>\n",
       "      <td>0.000000</td>\n",
       "      <td>-27.084785</td>\n",
       "      <td>-29.439220</td>\n",
       "      <td>0.021704</td>\n",
       "      <td>0.033196</td>\n",
       "      <td>0.512664</td>\n",
       "      <td>0.000000</td>\n",
       "      <td>-18.592970</td>\n",
       "      <td>-19.319469</td>\n",
       "      <td>1.000000</td>\n",
       "    </tr>\n",
       "    <tr>\n",
       "      <th>25%</th>\n",
       "      <td>352047.000000</td>\n",
       "      <td>1.000000</td>\n",
       "      <td>0.534135</td>\n",
       "      <td>-9.306782</td>\n",
       "      <td>-2.243421</td>\n",
       "      <td>0.700000</td>\n",
       "      <td>0.700000</td>\n",
       "      <td>1.407030</td>\n",
       "      <td>1.312863</td>\n",
       "      <td>-0.329000</td>\n",
       "      <td>-0.366225</td>\n",
       "      <td>3.000000</td>\n",
       "    </tr>\n",
       "    <tr>\n",
       "      <th>50%</th>\n",
       "      <td>352529.000000</td>\n",
       "      <td>2.000000</td>\n",
       "      <td>0.670852</td>\n",
       "      <td>0.213244</td>\n",
       "      <td>4.570821</td>\n",
       "      <td>1.524655</td>\n",
       "      <td>1.634197</td>\n",
       "      <td>1.659617</td>\n",
       "      <td>4.059084</td>\n",
       "      <td>0.021969</td>\n",
       "      <td>0.000000</td>\n",
       "      <td>3.000000</td>\n",
       "    </tr>\n",
       "    <tr>\n",
       "      <th>75%</th>\n",
       "      <td>352881.250000</td>\n",
       "      <td>2.000000</td>\n",
       "      <td>0.775835</td>\n",
       "      <td>11.694013</td>\n",
       "      <td>13.544471</td>\n",
       "      <td>4.813272</td>\n",
       "      <td>2.294077</td>\n",
       "      <td>1.816113</td>\n",
       "      <td>5.635236</td>\n",
       "      <td>0.235902</td>\n",
       "      <td>0.420562</td>\n",
       "      <td>3.000000</td>\n",
       "    </tr>\n",
       "    <tr>\n",
       "      <th>max</th>\n",
       "      <td>353584.000000</td>\n",
       "      <td>4.000000</td>\n",
       "      <td>0.849964</td>\n",
       "      <td>31.658167</td>\n",
       "      <td>35.590656</td>\n",
       "      <td>13.336719</td>\n",
       "      <td>11.312500</td>\n",
       "      <td>4.499220</td>\n",
       "      <td>6.282570</td>\n",
       "      <td>14.866463</td>\n",
       "      <td>16.425610</td>\n",
       "      <td>4.000000</td>\n",
       "    </tr>\n",
       "  </tbody>\n",
       "</table>\n",
       "</div>"
      ],
      "text/plain": [
       "                  ID         Label    Confidence  BBox_Position_X  \\\n",
       "count   31528.000000  31528.000000  31528.000000     31528.000000   \n",
       "mean   352442.187008      1.886672      0.628130         1.392738   \n",
       "std       589.756427      1.024552      0.181825        12.002700   \n",
       "min    351284.000000      0.000000      0.000000       -27.084785   \n",
       "25%    352047.000000      1.000000      0.534135        -9.306782   \n",
       "50%    352529.000000      2.000000      0.670852         0.213244   \n",
       "75%    352881.250000      2.000000      0.775835        11.694013   \n",
       "max    353584.000000      4.000000      0.849964        31.658167   \n",
       "\n",
       "       BBox_Position_Y   BBox_Size_X   BBox_Size_Y   BBox_Size_Z  \\\n",
       "count     31528.000000  31528.000000  31528.000000  31528.000000   \n",
       "mean          6.249248      2.504964      1.809304      1.655885   \n",
       "std          11.138796      2.143320      1.463001      0.505695   \n",
       "min         -29.439220      0.021704      0.033196      0.512664   \n",
       "25%          -2.243421      0.700000      0.700000      1.407030   \n",
       "50%           4.570821      1.524655      1.634197      1.659617   \n",
       "75%          13.544471      4.813272      2.294077      1.816113   \n",
       "max          35.590656     13.336719     11.312500      4.499220   \n",
       "\n",
       "           BBox_Yaw    Velocity_X    Velocity_Y  Tracking_Status  \n",
       "count  31528.000000  31528.000000  31528.000000     31528.000000  \n",
       "mean       3.510109     -0.061631      0.063867         2.759071  \n",
       "std        2.069745      1.981518      2.865030         0.836072  \n",
       "min        0.000000    -18.592970    -19.319469         1.000000  \n",
       "25%        1.312863     -0.329000     -0.366225         3.000000  \n",
       "50%        4.059084      0.021969      0.000000         3.000000  \n",
       "75%        5.635236      0.235902      0.420562         3.000000  \n",
       "max        6.282570     14.866463     16.425610         4.000000  "
      ]
     },
     "execution_count": 76,
     "metadata": {},
     "output_type": "execute_result"
    }
   ],
   "source": [
    "df.describe()"
   ]
  },
  {
   "cell_type": "code",
   "execution_count": 77,
   "metadata": {},
   "outputs": [
    {
     "data": {
      "text/plain": [
       "array([1, 4, 2, 3, 0], dtype=int64)"
      ]
     },
     "execution_count": 77,
     "metadata": {},
     "output_type": "execute_result"
    }
   ],
   "source": [
    "df['Label'].unique()"
   ]
  },
  {
   "cell_type": "code",
   "execution_count": 78,
   "metadata": {},
   "outputs": [
    {
     "data": {
      "text/html": [
       "<div>\n",
       "<style scoped>\n",
       "    .dataframe tbody tr th:only-of-type {\n",
       "        vertical-align: middle;\n",
       "    }\n",
       "\n",
       "    .dataframe tbody tr th {\n",
       "        vertical-align: top;\n",
       "    }\n",
       "\n",
       "    .dataframe thead th {\n",
       "        text-align: right;\n",
       "    }\n",
       "</style>\n",
       "<table border=\"1\" class=\"dataframe\">\n",
       "  <thead>\n",
       "    <tr style=\"text-align: right;\">\n",
       "      <th></th>\n",
       "      <th>ID</th>\n",
       "      <th>Label</th>\n",
       "      <th>Confidence</th>\n",
       "      <th>BBox_Position_X</th>\n",
       "      <th>BBox_Position_Y</th>\n",
       "      <th>BBox_Size_X</th>\n",
       "      <th>BBox_Size_Y</th>\n",
       "      <th>BBox_Size_Z</th>\n",
       "      <th>BBox_Yaw</th>\n",
       "      <th>Velocity_X</th>\n",
       "      <th>Velocity_Y</th>\n",
       "      <th>Tracking_Status</th>\n",
       "    </tr>\n",
       "  </thead>\n",
       "  <tbody>\n",
       "    <tr>\n",
       "      <th>count</th>\n",
       "      <td>12030.000000</td>\n",
       "      <td>12030.0</td>\n",
       "      <td>12030.000000</td>\n",
       "      <td>12030.000000</td>\n",
       "      <td>12030.000000</td>\n",
       "      <td>12030.000000</td>\n",
       "      <td>12030.000000</td>\n",
       "      <td>12030.000000</td>\n",
       "      <td>12030.000000</td>\n",
       "      <td>12030.000000</td>\n",
       "      <td>1.203000e+04</td>\n",
       "      <td>12030.000000</td>\n",
       "    </tr>\n",
       "    <tr>\n",
       "      <th>mean</th>\n",
       "      <td>352523.646135</td>\n",
       "      <td>2.0</td>\n",
       "      <td>0.645947</td>\n",
       "      <td>5.917827</td>\n",
       "      <td>6.799884</td>\n",
       "      <td>0.712687</td>\n",
       "      <td>0.715840</td>\n",
       "      <td>1.671020</td>\n",
       "      <td>3.361262</td>\n",
       "      <td>-0.031015</td>\n",
       "      <td>-1.118458e-02</td>\n",
       "      <td>3.041895</td>\n",
       "    </tr>\n",
       "    <tr>\n",
       "      <th>std</th>\n",
       "      <td>509.477518</td>\n",
       "      <td>0.0</td>\n",
       "      <td>0.101879</td>\n",
       "      <td>11.587342</td>\n",
       "      <td>9.176171</td>\n",
       "      <td>0.261044</td>\n",
       "      <td>0.263065</td>\n",
       "      <td>0.344811</td>\n",
       "      <td>2.063595</td>\n",
       "      <td>0.793460</td>\n",
       "      <td>7.672697e-01</td>\n",
       "      <td>0.453956</td>\n",
       "    </tr>\n",
       "    <tr>\n",
       "      <th>min</th>\n",
       "      <td>351304.000000</td>\n",
       "      <td>2.0</td>\n",
       "      <td>0.216458</td>\n",
       "      <td>-20.256592</td>\n",
       "      <td>-19.015629</td>\n",
       "      <td>0.054761</td>\n",
       "      <td>0.037415</td>\n",
       "      <td>0.624136</td>\n",
       "      <td>0.000000</td>\n",
       "      <td>-8.264691</td>\n",
       "      <td>-1.376973e+01</td>\n",
       "      <td>2.000000</td>\n",
       "    </tr>\n",
       "    <tr>\n",
       "      <th>25%</th>\n",
       "      <td>352052.000000</td>\n",
       "      <td>2.0</td>\n",
       "      <td>0.574256</td>\n",
       "      <td>-2.588546</td>\n",
       "      <td>0.040751</td>\n",
       "      <td>0.700000</td>\n",
       "      <td>0.700000</td>\n",
       "      <td>1.552585</td>\n",
       "      <td>1.436550</td>\n",
       "      <td>-0.368032</td>\n",
       "      <td>-3.828282e-01</td>\n",
       "      <td>3.000000</td>\n",
       "    </tr>\n",
       "    <tr>\n",
       "      <th>50%</th>\n",
       "      <td>352561.000000</td>\n",
       "      <td>2.0</td>\n",
       "      <td>0.655622</td>\n",
       "      <td>7.773524</td>\n",
       "      <td>7.973173</td>\n",
       "      <td>0.700000</td>\n",
       "      <td>0.700000</td>\n",
       "      <td>1.670758</td>\n",
       "      <td>3.370393</td>\n",
       "      <td>0.019549</td>\n",
       "      <td>-1.815000e-11</td>\n",
       "      <td>3.000000</td>\n",
       "    </tr>\n",
       "    <tr>\n",
       "      <th>75%</th>\n",
       "      <td>352821.250000</td>\n",
       "      <td>2.0</td>\n",
       "      <td>0.733323</td>\n",
       "      <td>12.657366</td>\n",
       "      <td>12.836236</td>\n",
       "      <td>0.700000</td>\n",
       "      <td>0.700000</td>\n",
       "      <td>1.805163</td>\n",
       "      <td>5.575671</td>\n",
       "      <td>0.164196</td>\n",
       "      <td>3.896602e-01</td>\n",
       "      <td>3.000000</td>\n",
       "    </tr>\n",
       "    <tr>\n",
       "      <th>max</th>\n",
       "      <td>353584.000000</td>\n",
       "      <td>2.0</td>\n",
       "      <td>0.824594</td>\n",
       "      <td>29.598986</td>\n",
       "      <td>29.947901</td>\n",
       "      <td>5.393415</td>\n",
       "      <td>5.788192</td>\n",
       "      <td>4.499121</td>\n",
       "      <td>6.282570</td>\n",
       "      <td>5.088287</td>\n",
       "      <td>6.996300e+00</td>\n",
       "      <td>4.000000</td>\n",
       "    </tr>\n",
       "  </tbody>\n",
       "</table>\n",
       "</div>"
      ],
      "text/plain": [
       "                  ID    Label    Confidence  BBox_Position_X  BBox_Position_Y  \\\n",
       "count   12030.000000  12030.0  12030.000000     12030.000000     12030.000000   \n",
       "mean   352523.646135      2.0      0.645947         5.917827         6.799884   \n",
       "std       509.477518      0.0      0.101879        11.587342         9.176171   \n",
       "min    351304.000000      2.0      0.216458       -20.256592       -19.015629   \n",
       "25%    352052.000000      2.0      0.574256        -2.588546         0.040751   \n",
       "50%    352561.000000      2.0      0.655622         7.773524         7.973173   \n",
       "75%    352821.250000      2.0      0.733323        12.657366        12.836236   \n",
       "max    353584.000000      2.0      0.824594        29.598986        29.947901   \n",
       "\n",
       "        BBox_Size_X   BBox_Size_Y   BBox_Size_Z      BBox_Yaw    Velocity_X  \\\n",
       "count  12030.000000  12030.000000  12030.000000  12030.000000  12030.000000   \n",
       "mean       0.712687      0.715840      1.671020      3.361262     -0.031015   \n",
       "std        0.261044      0.263065      0.344811      2.063595      0.793460   \n",
       "min        0.054761      0.037415      0.624136      0.000000     -8.264691   \n",
       "25%        0.700000      0.700000      1.552585      1.436550     -0.368032   \n",
       "50%        0.700000      0.700000      1.670758      3.370393      0.019549   \n",
       "75%        0.700000      0.700000      1.805163      5.575671      0.164196   \n",
       "max        5.393415      5.788192      4.499121      6.282570      5.088287   \n",
       "\n",
       "         Velocity_Y  Tracking_Status  \n",
       "count  1.203000e+04     12030.000000  \n",
       "mean  -1.118458e-02         3.041895  \n",
       "std    7.672697e-01         0.453956  \n",
       "min   -1.376973e+01         2.000000  \n",
       "25%   -3.828282e-01         3.000000  \n",
       "50%   -1.815000e-11         3.000000  \n",
       "75%    3.896602e-01         3.000000  \n",
       "max    6.996300e+00         4.000000  "
      ]
     },
     "execution_count": 78,
     "metadata": {},
     "output_type": "execute_result"
    }
   ],
   "source": [
    "#lets check for only pedestrians(2)\n",
    "df[df['Label']==2].describe()"
   ]
  },
  {
   "cell_type": "code",
   "execution_count": 79,
   "metadata": {},
   "outputs": [],
   "source": [
    "ped=df[df['Label']==2]"
   ]
  },
  {
   "cell_type": "code",
   "execution_count": 80,
   "metadata": {
    "scrolled": true
   },
   "outputs": [
    {
     "data": {
      "text/html": [
       "<div>\n",
       "<style scoped>\n",
       "    .dataframe tbody tr th:only-of-type {\n",
       "        vertical-align: middle;\n",
       "    }\n",
       "\n",
       "    .dataframe tbody tr th {\n",
       "        vertical-align: top;\n",
       "    }\n",
       "\n",
       "    .dataframe thead th {\n",
       "        text-align: right;\n",
       "    }\n",
       "</style>\n",
       "<table border=\"1\" class=\"dataframe\">\n",
       "  <thead>\n",
       "    <tr style=\"text-align: right;\">\n",
       "      <th></th>\n",
       "      <th>Timestamp</th>\n",
       "      <th>ID</th>\n",
       "      <th>Label</th>\n",
       "      <th>Confidence</th>\n",
       "      <th>BBox_Position_X</th>\n",
       "      <th>BBox_Position_Y</th>\n",
       "      <th>BBox_Size_X</th>\n",
       "      <th>BBox_Size_Y</th>\n",
       "      <th>BBox_Size_Z</th>\n",
       "      <th>BBox_Yaw</th>\n",
       "      <th>Velocity_X</th>\n",
       "      <th>Velocity_Y</th>\n",
       "      <th>Tracking_Status</th>\n",
       "    </tr>\n",
       "  </thead>\n",
       "  <tbody>\n",
       "    <tr>\n",
       "      <th>2</th>\n",
       "      <td>2021-10-08 14:59:36.084</td>\n",
       "      <td>351305</td>\n",
       "      <td>2</td>\n",
       "      <td>0.557778</td>\n",
       "      <td>17.113178</td>\n",
       "      <td>-12.025629</td>\n",
       "      <td>0.117142</td>\n",
       "      <td>0.482906</td>\n",
       "      <td>1.469934</td>\n",
       "      <td>4.994645</td>\n",
       "      <td>0.296628</td>\n",
       "      <td>-1.022861</td>\n",
       "      <td>4</td>\n",
       "    </tr>\n",
       "    <tr>\n",
       "      <th>3</th>\n",
       "      <td>2021-10-08 14:59:36.084</td>\n",
       "      <td>351304</td>\n",
       "      <td>2</td>\n",
       "      <td>0.498057</td>\n",
       "      <td>-14.341146</td>\n",
       "      <td>10.672971</td>\n",
       "      <td>0.139692</td>\n",
       "      <td>0.358661</td>\n",
       "      <td>1.636156</td>\n",
       "      <td>3.617036</td>\n",
       "      <td>-1.280785</td>\n",
       "      <td>-0.659390</td>\n",
       "      <td>4</td>\n",
       "    </tr>\n",
       "    <tr>\n",
       "      <th>6</th>\n",
       "      <td>2021-10-08 14:59:36.187</td>\n",
       "      <td>351305</td>\n",
       "      <td>2</td>\n",
       "      <td>0.527778</td>\n",
       "      <td>17.166819</td>\n",
       "      <td>-12.090954</td>\n",
       "      <td>0.203518</td>\n",
       "      <td>0.408079</td>\n",
       "      <td>1.399189</td>\n",
       "      <td>5.235987</td>\n",
       "      <td>0.376123</td>\n",
       "      <td>-1.029529</td>\n",
       "      <td>3</td>\n",
       "    </tr>\n",
       "    <tr>\n",
       "      <th>7</th>\n",
       "      <td>2021-10-08 14:59:36.187</td>\n",
       "      <td>351304</td>\n",
       "      <td>2</td>\n",
       "      <td>0.498057</td>\n",
       "      <td>-14.387434</td>\n",
       "      <td>10.649923</td>\n",
       "      <td>0.139692</td>\n",
       "      <td>0.358661</td>\n",
       "      <td>1.636156</td>\n",
       "      <td>3.590088</td>\n",
       "      <td>-1.298087</td>\n",
       "      <td>-0.624641</td>\n",
       "      <td>4</td>\n",
       "    </tr>\n",
       "    <tr>\n",
       "      <th>10</th>\n",
       "      <td>2021-10-08 14:59:36.297</td>\n",
       "      <td>351305</td>\n",
       "      <td>2</td>\n",
       "      <td>0.497778</td>\n",
       "      <td>17.289467</td>\n",
       "      <td>-12.164828</td>\n",
       "      <td>0.160431</td>\n",
       "      <td>0.435156</td>\n",
       "      <td>1.425880</td>\n",
       "      <td>4.712389</td>\n",
       "      <td>0.431542</td>\n",
       "      <td>-1.027546</td>\n",
       "      <td>3</td>\n",
       "    </tr>\n",
       "  </tbody>\n",
       "</table>\n",
       "</div>"
      ],
      "text/plain": [
       "                 Timestamp      ID  Label  Confidence  BBox_Position_X  \\\n",
       "2  2021-10-08 14:59:36.084  351305      2    0.557778        17.113178   \n",
       "3  2021-10-08 14:59:36.084  351304      2    0.498057       -14.341146   \n",
       "6  2021-10-08 14:59:36.187  351305      2    0.527778        17.166819   \n",
       "7  2021-10-08 14:59:36.187  351304      2    0.498057       -14.387434   \n",
       "10 2021-10-08 14:59:36.297  351305      2    0.497778        17.289467   \n",
       "\n",
       "    BBox_Position_Y  BBox_Size_X  BBox_Size_Y  BBox_Size_Z  BBox_Yaw  \\\n",
       "2        -12.025629     0.117142     0.482906     1.469934  4.994645   \n",
       "3         10.672971     0.139692     0.358661     1.636156  3.617036   \n",
       "6        -12.090954     0.203518     0.408079     1.399189  5.235987   \n",
       "7         10.649923     0.139692     0.358661     1.636156  3.590088   \n",
       "10       -12.164828     0.160431     0.435156     1.425880  4.712389   \n",
       "\n",
       "    Velocity_X  Velocity_Y  Tracking_Status  \n",
       "2     0.296628   -1.022861                4  \n",
       "3    -1.280785   -0.659390                4  \n",
       "6     0.376123   -1.029529                3  \n",
       "7    -1.298087   -0.624641                4  \n",
       "10    0.431542   -1.027546                3  "
      ]
     },
     "execution_count": 80,
     "metadata": {},
     "output_type": "execute_result"
    }
   ],
   "source": [
    "ped.head()"
   ]
  },
  {
   "cell_type": "code",
   "execution_count": 81,
   "metadata": {
    "scrolled": true
   },
   "outputs": [
    {
     "name": "stderr",
     "output_type": "stream",
     "text": [
      "<ipython-input-81-b75fbeb3c826>:1: SettingWithCopyWarning: \n",
      "A value is trying to be set on a copy of a slice from a DataFrame.\n",
      "Try using .loc[row_indexer,col_indexer] = value instead\n",
      "\n",
      "See the caveats in the documentation: https://pandas.pydata.org/pandas-docs/stable/user_guide/indexing.html#returning-a-view-versus-a-copy\n",
      "  ped['ID']=ped['ID'].astype(str)\n"
     ]
    }
   ],
   "source": [
    "ped['ID']=ped['ID'].astype(str)"
   ]
  },
  {
   "cell_type": "code",
   "execution_count": 82,
   "metadata": {},
   "outputs": [
    {
     "name": "stdout",
     "output_type": "stream",
     "text": [
      "<class 'pandas.core.frame.DataFrame'>\n",
      "Int64Index: 12030 entries, 2 to 41129\n",
      "Data columns (total 13 columns):\n",
      " #   Column           Non-Null Count  Dtype         \n",
      "---  ------           --------------  -----         \n",
      " 0   Timestamp        12030 non-null  datetime64[ns]\n",
      " 1   ID               12030 non-null  object        \n",
      " 2   Label            12030 non-null  int64         \n",
      " 3   Confidence       12030 non-null  float64       \n",
      " 4   BBox_Position_X  12030 non-null  float64       \n",
      " 5   BBox_Position_Y  12030 non-null  float64       \n",
      " 6   BBox_Size_X      12030 non-null  float64       \n",
      " 7   BBox_Size_Y      12030 non-null  float64       \n",
      " 8   BBox_Size_Z      12030 non-null  float64       \n",
      " 9   BBox_Yaw         12030 non-null  float64       \n",
      " 10  Velocity_X       12030 non-null  float64       \n",
      " 11  Velocity_Y       12030 non-null  float64       \n",
      " 12  Tracking_Status  12030 non-null  int64         \n",
      "dtypes: datetime64[ns](1), float64(9), int64(2), object(1)\n",
      "memory usage: 1.3+ MB\n"
     ]
    }
   ],
   "source": [
    "ped.info()"
   ]
  },
  {
   "cell_type": "code",
   "execution_count": 83,
   "metadata": {
    "scrolled": true
   },
   "outputs": [
    {
     "name": "stderr",
     "output_type": "stream",
     "text": [
      "<ipython-input-83-62d1cc822f53>:3: SettingWithCopyWarning: \n",
      "A value is trying to be set on a copy of a slice from a DataFrame\n",
      "\n",
      "See the caveats in the documentation: https://pandas.pydata.org/pandas-docs/stable/user_guide/indexing.html#returning-a-view-versus-a-copy\n",
      "  ped.sort_values(by=['ID','Timestamp'],ascending=[0,1],inplace=True)\n"
     ]
    }
   ],
   "source": [
    "#None (0), Validating (1), Invalidating (2), Tracking (3), Drifting (4), Expired (5)\n",
    "#None (0), Car (1), Pedestrian (2), Cyclist (3), Misc (4)\n",
    "ped.sort_values(by=['ID','Timestamp'],ascending=[0,1],inplace=True)\n",
    "ped=ped.reset_index(drop=True)"
   ]
  },
  {
   "cell_type": "code",
   "execution_count": 84,
   "metadata": {},
   "outputs": [
    {
     "data": {
      "text/html": [
       "<div>\n",
       "<style scoped>\n",
       "    .dataframe tbody tr th:only-of-type {\n",
       "        vertical-align: middle;\n",
       "    }\n",
       "\n",
       "    .dataframe tbody tr th {\n",
       "        vertical-align: top;\n",
       "    }\n",
       "\n",
       "    .dataframe thead th {\n",
       "        text-align: right;\n",
       "    }\n",
       "</style>\n",
       "<table border=\"1\" class=\"dataframe\">\n",
       "  <thead>\n",
       "    <tr style=\"text-align: right;\">\n",
       "      <th></th>\n",
       "      <th>Timestamp</th>\n",
       "      <th>ID</th>\n",
       "      <th>Label</th>\n",
       "      <th>Confidence</th>\n",
       "      <th>BBox_Position_X</th>\n",
       "      <th>BBox_Position_Y</th>\n",
       "      <th>BBox_Size_X</th>\n",
       "      <th>BBox_Size_Y</th>\n",
       "      <th>BBox_Size_Z</th>\n",
       "      <th>BBox_Yaw</th>\n",
       "      <th>Velocity_X</th>\n",
       "      <th>Velocity_Y</th>\n",
       "      <th>Tracking_Status</th>\n",
       "    </tr>\n",
       "  </thead>\n",
       "  <tbody>\n",
       "  </tbody>\n",
       "</table>\n",
       "</div>"
      ],
      "text/plain": [
       "Empty DataFrame\n",
       "Columns: [Timestamp, ID, Label, Confidence, BBox_Position_X, BBox_Position_Y, BBox_Size_X, BBox_Size_Y, BBox_Size_Z, BBox_Yaw, Velocity_X, Velocity_Y, Tracking_Status]\n",
       "Index: []"
      ]
     },
     "execution_count": 84,
     "metadata": {},
     "output_type": "execute_result"
    }
   ],
   "source": [
    "ped[ped['ID']==353580]"
   ]
  },
  {
   "cell_type": "code",
   "execution_count": 85,
   "metadata": {},
   "outputs": [],
   "source": [
    "ped_25_50=ped[(ped['Confidence']>=0.25) & (ped['Confidence']<=0.50)]"
   ]
  },
  {
   "cell_type": "code",
   "execution_count": 86,
   "metadata": {},
   "outputs": [],
   "source": [
    "ped_0_25=ped[(ped['Confidence']>=0) & (ped['Confidence']<=0.25)]\n"
   ]
  },
  {
   "cell_type": "code",
   "execution_count": 87,
   "metadata": {},
   "outputs": [
    {
     "data": {
      "text/plain": [
       "-0.022421902933333238"
      ]
     },
     "execution_count": 87,
     "metadata": {},
     "output_type": "execute_result"
    }
   ],
   "source": [
    "ped_0_25['Velocity_X'].mean()"
   ]
  },
  {
   "cell_type": "code",
   "execution_count": 88,
   "metadata": {
    "scrolled": true
   },
   "outputs": [
    {
     "data": {
      "text/html": [
       "<div>\n",
       "<style scoped>\n",
       "    .dataframe tbody tr th:only-of-type {\n",
       "        vertical-align: middle;\n",
       "    }\n",
       "\n",
       "    .dataframe tbody tr th {\n",
       "        vertical-align: top;\n",
       "    }\n",
       "\n",
       "    .dataframe thead th {\n",
       "        text-align: right;\n",
       "    }\n",
       "</style>\n",
       "<table border=\"1\" class=\"dataframe\">\n",
       "  <thead>\n",
       "    <tr style=\"text-align: right;\">\n",
       "      <th></th>\n",
       "      <th>Timestamp</th>\n",
       "      <th>ID</th>\n",
       "      <th>Label</th>\n",
       "      <th>Confidence</th>\n",
       "      <th>BBox_Position_X</th>\n",
       "      <th>BBox_Position_Y</th>\n",
       "      <th>BBox_Size_X</th>\n",
       "      <th>BBox_Size_Y</th>\n",
       "      <th>BBox_Size_Z</th>\n",
       "      <th>BBox_Yaw</th>\n",
       "      <th>Velocity_X</th>\n",
       "      <th>Velocity_Y</th>\n",
       "      <th>Tracking_Status</th>\n",
       "    </tr>\n",
       "  </thead>\n",
       "  <tbody>\n",
       "    <tr>\n",
       "      <th>696</th>\n",
       "      <td>2021-10-08 15:11:11.108</td>\n",
       "      <td>353336</td>\n",
       "      <td>2</td>\n",
       "      <td>0.216458</td>\n",
       "      <td>27.144552</td>\n",
       "      <td>1.751102</td>\n",
       "      <td>0.413244</td>\n",
       "      <td>0.715750</td>\n",
       "      <td>1.948807</td>\n",
       "      <td>2.268928</td>\n",
       "      <td>-0.910706</td>\n",
       "      <td>0.570961</td>\n",
       "      <td>3</td>\n",
       "    </tr>\n",
       "    <tr>\n",
       "      <th>923</th>\n",
       "      <td>2021-10-08 15:11:06.926</td>\n",
       "      <td>353311</td>\n",
       "      <td>2</td>\n",
       "      <td>0.227577</td>\n",
       "      <td>12.854349</td>\n",
       "      <td>-8.477612</td>\n",
       "      <td>0.187570</td>\n",
       "      <td>0.667454</td>\n",
       "      <td>1.481340</td>\n",
       "      <td>4.712389</td>\n",
       "      <td>0.682357</td>\n",
       "      <td>-1.052900</td>\n",
       "      <td>3</td>\n",
       "    </tr>\n",
       "    <tr>\n",
       "      <th>924</th>\n",
       "      <td>2021-10-08 15:11:07.036</td>\n",
       "      <td>353311</td>\n",
       "      <td>2</td>\n",
       "      <td>0.227577</td>\n",
       "      <td>12.885536</td>\n",
       "      <td>-8.526479</td>\n",
       "      <td>0.187570</td>\n",
       "      <td>0.667454</td>\n",
       "      <td>1.481340</td>\n",
       "      <td>5.272963</td>\n",
       "      <td>0.667076</td>\n",
       "      <td>-1.062647</td>\n",
       "      <td>4</td>\n",
       "    </tr>\n",
       "    <tr>\n",
       "      <th>930</th>\n",
       "      <td>2021-10-08 15:11:09.338</td>\n",
       "      <td>353311</td>\n",
       "      <td>2</td>\n",
       "      <td>0.247031</td>\n",
       "      <td>15.714110</td>\n",
       "      <td>-10.656422</td>\n",
       "      <td>0.203787</td>\n",
       "      <td>0.754071</td>\n",
       "      <td>1.455743</td>\n",
       "      <td>5.061455</td>\n",
       "      <td>0.988169</td>\n",
       "      <td>-0.996203</td>\n",
       "      <td>3</td>\n",
       "    </tr>\n",
       "    <tr>\n",
       "      <th>931</th>\n",
       "      <td>2021-10-08 15:11:09.439</td>\n",
       "      <td>353311</td>\n",
       "      <td>2</td>\n",
       "      <td>0.247031</td>\n",
       "      <td>15.757009</td>\n",
       "      <td>-10.699745</td>\n",
       "      <td>0.754071</td>\n",
       "      <td>0.203787</td>\n",
       "      <td>1.455743</td>\n",
       "      <td>5.492114</td>\n",
       "      <td>0.986549</td>\n",
       "      <td>-0.997807</td>\n",
       "      <td>4</td>\n",
       "    </tr>\n",
       "    <tr>\n",
       "      <th>1353</th>\n",
       "      <td>2021-10-08 15:10:53.510</td>\n",
       "      <td>353258</td>\n",
       "      <td>2</td>\n",
       "      <td>0.240580</td>\n",
       "      <td>-9.824770</td>\n",
       "      <td>8.526827</td>\n",
       "      <td>1.362462</td>\n",
       "      <td>0.432599</td>\n",
       "      <td>1.819425</td>\n",
       "      <td>5.061455</td>\n",
       "      <td>1.520310</td>\n",
       "      <td>-0.751321</td>\n",
       "      <td>3</td>\n",
       "    </tr>\n",
       "    <tr>\n",
       "      <th>6177</th>\n",
       "      <td>2021-10-08 15:06:56.365</td>\n",
       "      <td>352544</td>\n",
       "      <td>2</td>\n",
       "      <td>0.244480</td>\n",
       "      <td>-7.451286</td>\n",
       "      <td>7.305979</td>\n",
       "      <td>0.749023</td>\n",
       "      <td>1.509766</td>\n",
       "      <td>1.907341</td>\n",
       "      <td>6.257311</td>\n",
       "      <td>1.012178</td>\n",
       "      <td>-1.063353</td>\n",
       "      <td>3</td>\n",
       "    </tr>\n",
       "    <tr>\n",
       "      <th>7393</th>\n",
       "      <td>2021-10-08 15:05:45.016</td>\n",
       "      <td>352314</td>\n",
       "      <td>2</td>\n",
       "      <td>0.226779</td>\n",
       "      <td>14.878908</td>\n",
       "      <td>3.203855</td>\n",
       "      <td>0.479306</td>\n",
       "      <td>0.221852</td>\n",
       "      <td>1.093985</td>\n",
       "      <td>3.316125</td>\n",
       "      <td>-4.015826</td>\n",
       "      <td>1.600633</td>\n",
       "      <td>3</td>\n",
       "    </tr>\n",
       "    <tr>\n",
       "      <th>7397</th>\n",
       "      <td>2021-10-08 15:05:38.726</td>\n",
       "      <td>352290</td>\n",
       "      <td>2</td>\n",
       "      <td>0.232271</td>\n",
       "      <td>5.015372</td>\n",
       "      <td>18.099005</td>\n",
       "      <td>0.620207</td>\n",
       "      <td>2.022899</td>\n",
       "      <td>1.699106</td>\n",
       "      <td>2.617994</td>\n",
       "      <td>-1.131904</td>\n",
       "      <td>0.893487</td>\n",
       "      <td>3</td>\n",
       "    </tr>\n",
       "  </tbody>\n",
       "</table>\n",
       "</div>"
      ],
      "text/plain": [
       "                   Timestamp      ID  Label  Confidence  BBox_Position_X  \\\n",
       "696  2021-10-08 15:11:11.108  353336      2    0.216458        27.144552   \n",
       "923  2021-10-08 15:11:06.926  353311      2    0.227577        12.854349   \n",
       "924  2021-10-08 15:11:07.036  353311      2    0.227577        12.885536   \n",
       "930  2021-10-08 15:11:09.338  353311      2    0.247031        15.714110   \n",
       "931  2021-10-08 15:11:09.439  353311      2    0.247031        15.757009   \n",
       "1353 2021-10-08 15:10:53.510  353258      2    0.240580        -9.824770   \n",
       "6177 2021-10-08 15:06:56.365  352544      2    0.244480        -7.451286   \n",
       "7393 2021-10-08 15:05:45.016  352314      2    0.226779        14.878908   \n",
       "7397 2021-10-08 15:05:38.726  352290      2    0.232271         5.015372   \n",
       "\n",
       "      BBox_Position_Y  BBox_Size_X  BBox_Size_Y  BBox_Size_Z  BBox_Yaw  \\\n",
       "696          1.751102     0.413244     0.715750     1.948807  2.268928   \n",
       "923         -8.477612     0.187570     0.667454     1.481340  4.712389   \n",
       "924         -8.526479     0.187570     0.667454     1.481340  5.272963   \n",
       "930        -10.656422     0.203787     0.754071     1.455743  5.061455   \n",
       "931        -10.699745     0.754071     0.203787     1.455743  5.492114   \n",
       "1353         8.526827     1.362462     0.432599     1.819425  5.061455   \n",
       "6177         7.305979     0.749023     1.509766     1.907341  6.257311   \n",
       "7393         3.203855     0.479306     0.221852     1.093985  3.316125   \n",
       "7397        18.099005     0.620207     2.022899     1.699106  2.617994   \n",
       "\n",
       "      Velocity_X  Velocity_Y  Tracking_Status  \n",
       "696    -0.910706    0.570961                3  \n",
       "923     0.682357   -1.052900                3  \n",
       "924     0.667076   -1.062647                4  \n",
       "930     0.988169   -0.996203                3  \n",
       "931     0.986549   -0.997807                4  \n",
       "1353    1.520310   -0.751321                3  \n",
       "6177    1.012178   -1.063353                3  \n",
       "7393   -4.015826    1.600633                3  \n",
       "7397   -1.131904    0.893487                3  "
      ]
     },
     "execution_count": 88,
     "metadata": {},
     "output_type": "execute_result"
    }
   ],
   "source": [
    "ped_0_25"
   ]
  },
  {
   "cell_type": "code",
   "execution_count": 89,
   "metadata": {},
   "outputs": [
    {
     "data": {
      "text/plain": [
       "-8.264691353"
      ]
     },
     "execution_count": 89,
     "metadata": {},
     "output_type": "execute_result"
    }
   ],
   "source": [
    "min(ped_25_50['Velocity_X'])"
   ]
  },
  {
   "cell_type": "code",
   "execution_count": 90,
   "metadata": {},
   "outputs": [
    {
     "data": {
      "text/plain": [
       "5.052525997"
      ]
     },
     "execution_count": 90,
     "metadata": {},
     "output_type": "execute_result"
    }
   ],
   "source": [
    "max(ped_25_50['Velocity_X'])"
   ]
  },
  {
   "cell_type": "code",
   "execution_count": 91,
   "metadata": {},
   "outputs": [
    {
     "data": {
      "text/plain": [
       "-0.05042406226521114"
      ]
     },
     "execution_count": 91,
     "metadata": {},
     "output_type": "execute_result"
    }
   ],
   "source": [
    "from statistics import mean,median\n",
    "mean(ped_25_50['Velocity_X'])"
   ]
  },
  {
   "cell_type": "code",
   "execution_count": 92,
   "metadata": {},
   "outputs": [
    {
     "data": {
      "text/plain": [
       "ID\n",
       "351304   -1.289436\n",
       "351305    0.431542\n",
       "351314    0.058071\n",
       "351374   -0.971772\n",
       "351403   -0.616778\n",
       "            ...   \n",
       "353363    0.828063\n",
       "353383   -0.704303\n",
       "353389   -0.734951\n",
       "353408    0.036368\n",
       "353529    1.234099\n",
       "Name: Velocity_X, Length: 96, dtype: float64"
      ]
     },
     "execution_count": 92,
     "metadata": {},
     "output_type": "execute_result"
    }
   ],
   "source": [
    "Y=ped_25_50.groupby('ID')['Velocity_X'].mean()\n",
    "Y"
   ]
  },
  {
   "cell_type": "code",
   "execution_count": 93,
   "metadata": {},
   "outputs": [
    {
     "data": {
      "image/png": "[encoded data removed]",
      "text/plain": [
       "<Figure size 2160x1080 with 1 Axes>"
      ]
     },
     "metadata": {
      "needs_background": "light"
     },
     "output_type": "display_data"
    }
   ],
   "source": [
    "import matplotlib.pyplot as plt \n",
    "y1=np.arange(-8,6,1)\n",
    "fig,ax=plt.subplots(figsize=[30,15])\n",
    "plt.scatter(x=ped_25_50['ID'].unique(),y=Y )\n",
    "plt.xticks(rotation=90)\n",
    "plt.axhline(mean(ped_25_50['Velocity_X']))\n",
    "plt.yticks(y1)\n",
    "plt.show()"
   ]
  },
  {
   "cell_type": "code",
   "execution_count": 94,
   "metadata": {},
   "outputs": [],
   "source": [
    "ped_50_75=ped[(ped['Confidence']>=0.50) & (ped['Confidence']<=0.75)]"
   ]
  },
  {
   "cell_type": "code",
   "execution_count": 95,
   "metadata": {},
   "outputs": [
    {
     "data": {
      "text/plain": [
       "-0.028747148910456384"
      ]
     },
     "execution_count": 95,
     "metadata": {},
     "output_type": "execute_result"
    }
   ],
   "source": [
    "ped_50_75['Velocity_X'].mean()"
   ]
  },
  {
   "cell_type": "code",
   "execution_count": 96,
   "metadata": {},
   "outputs": [],
   "source": [
    "ped_75_100=ped[(ped['Confidence']>=0.75) & (ped['Confidence']<=1)]"
   ]
  },
  {
   "cell_type": "code",
   "execution_count": 97,
   "metadata": {},
   "outputs": [
    {
     "data": {
      "text/plain": [
       "-0.02805679449125402"
      ]
     },
     "execution_count": 97,
     "metadata": {},
     "output_type": "execute_result"
    }
   ],
   "source": [
    "ped_75_100['Velocity_X'].mean()"
   ]
  },
  {
   "cell_type": "code",
   "execution_count": 98,
   "metadata": {},
   "outputs": [
    {
     "data": {
      "image/png": "[encoded data removed]",
      "text/plain": [
       "<Figure size 2160x360 with 1 Axes>"
      ]
     },
     "metadata": {
      "needs_background": "light"
     },
     "output_type": "display_data"
    }
   ],
   "source": [
    "fig,ax=plt.subplots(figsize=[30,5])\n",
    "plt.scatter(x=ped_50_75['ID'].unique(),y=ped_50_75.groupby('ID')['Velocity_X'].mean())\n",
    "plt.xticks(rotation=90)\n",
    "#plt.yticks\n",
    "plt.show()"
   ]
  },
  {
   "cell_type": "code",
   "execution_count": 99,
   "metadata": {},
   "outputs": [
    {
     "data": {
      "text/html": [
       "<div>\n",
       "<style scoped>\n",
       "    .dataframe tbody tr th:only-of-type {\n",
       "        vertical-align: middle;\n",
       "    }\n",
       "\n",
       "    .dataframe tbody tr th {\n",
       "        vertical-align: top;\n",
       "    }\n",
       "\n",
       "    .dataframe thead th {\n",
       "        text-align: right;\n",
       "    }\n",
       "</style>\n",
       "<table border=\"1\" class=\"dataframe\">\n",
       "  <thead>\n",
       "    <tr style=\"text-align: right;\">\n",
       "      <th></th>\n",
       "      <th>Timestamp</th>\n",
       "      <th>ID</th>\n",
       "      <th>Label</th>\n",
       "      <th>Confidence</th>\n",
       "      <th>BBox_Position_X</th>\n",
       "      <th>BBox_Position_Y</th>\n",
       "      <th>BBox_Size_X</th>\n",
       "      <th>BBox_Size_Y</th>\n",
       "      <th>BBox_Size_Z</th>\n",
       "      <th>BBox_Yaw</th>\n",
       "      <th>Velocity_X</th>\n",
       "      <th>Velocity_Y</th>\n",
       "      <th>Tracking_Status</th>\n",
       "    </tr>\n",
       "  </thead>\n",
       "  <tbody>\n",
       "    <tr>\n",
       "      <th>0</th>\n",
       "      <td>2021-10-08 15:12:02.615</td>\n",
       "      <td>353584</td>\n",
       "      <td>2</td>\n",
       "      <td>0.522987</td>\n",
       "      <td>15.421875</td>\n",
       "      <td>-12.812501</td>\n",
       "      <td>0.7</td>\n",
       "      <td>0.7</td>\n",
       "      <td>1.449235</td>\n",
       "      <td>5.959943</td>\n",
       "      <td>0.000000</td>\n",
       "      <td>0.000000e+00</td>\n",
       "      <td>2</td>\n",
       "    </tr>\n",
       "    <tr>\n",
       "      <th>1</th>\n",
       "      <td>2021-10-08 15:11:58.976</td>\n",
       "      <td>353580</td>\n",
       "      <td>2</td>\n",
       "      <td>0.552471</td>\n",
       "      <td>16.077686</td>\n",
       "      <td>-12.468752</td>\n",
       "      <td>0.7</td>\n",
       "      <td>0.7</td>\n",
       "      <td>1.460927</td>\n",
       "      <td>2.661124</td>\n",
       "      <td>-0.004519</td>\n",
       "      <td>0.000000e+00</td>\n",
       "      <td>2</td>\n",
       "    </tr>\n",
       "    <tr>\n",
       "      <th>2</th>\n",
       "      <td>2021-10-08 15:11:59.073</td>\n",
       "      <td>353580</td>\n",
       "      <td>2</td>\n",
       "      <td>0.552471</td>\n",
       "      <td>16.077524</td>\n",
       "      <td>-12.468752</td>\n",
       "      <td>0.7</td>\n",
       "      <td>0.7</td>\n",
       "      <td>1.460927</td>\n",
       "      <td>2.661124</td>\n",
       "      <td>-0.004519</td>\n",
       "      <td>-6.730000e-11</td>\n",
       "      <td>2</td>\n",
       "    </tr>\n",
       "    <tr>\n",
       "      <th>3</th>\n",
       "      <td>2021-10-08 15:11:59.195</td>\n",
       "      <td>353580</td>\n",
       "      <td>2</td>\n",
       "      <td>0.552471</td>\n",
       "      <td>16.077366</td>\n",
       "      <td>-12.468753</td>\n",
       "      <td>0.7</td>\n",
       "      <td>0.7</td>\n",
       "      <td>1.460927</td>\n",
       "      <td>2.661124</td>\n",
       "      <td>-0.004519</td>\n",
       "      <td>-1.850000e-10</td>\n",
       "      <td>2</td>\n",
       "    </tr>\n",
       "    <tr>\n",
       "      <th>4</th>\n",
       "      <td>2021-10-08 15:11:59.292</td>\n",
       "      <td>353580</td>\n",
       "      <td>2</td>\n",
       "      <td>0.552471</td>\n",
       "      <td>16.077204</td>\n",
       "      <td>-12.468754</td>\n",
       "      <td>0.7</td>\n",
       "      <td>0.7</td>\n",
       "      <td>1.460927</td>\n",
       "      <td>2.661124</td>\n",
       "      <td>-0.004519</td>\n",
       "      <td>-6.730000e-11</td>\n",
       "      <td>2</td>\n",
       "    </tr>\n",
       "  </tbody>\n",
       "</table>\n",
       "</div>"
      ],
      "text/plain": [
       "                Timestamp      ID  Label  Confidence  BBox_Position_X  \\\n",
       "0 2021-10-08 15:12:02.615  353584      2    0.522987        15.421875   \n",
       "1 2021-10-08 15:11:58.976  353580      2    0.552471        16.077686   \n",
       "2 2021-10-08 15:11:59.073  353580      2    0.552471        16.077524   \n",
       "3 2021-10-08 15:11:59.195  353580      2    0.552471        16.077366   \n",
       "4 2021-10-08 15:11:59.292  353580      2    0.552471        16.077204   \n",
       "\n",
       "   BBox_Position_Y  BBox_Size_X  BBox_Size_Y  BBox_Size_Z  BBox_Yaw  \\\n",
       "0       -12.812501          0.7          0.7     1.449235  5.959943   \n",
       "1       -12.468752          0.7          0.7     1.460927  2.661124   \n",
       "2       -12.468752          0.7          0.7     1.460927  2.661124   \n",
       "3       -12.468753          0.7          0.7     1.460927  2.661124   \n",
       "4       -12.468754          0.7          0.7     1.460927  2.661124   \n",
       "\n",
       "   Velocity_X    Velocity_Y  Tracking_Status  \n",
       "0    0.000000  0.000000e+00                2  \n",
       "1   -0.004519  0.000000e+00                2  \n",
       "2   -0.004519 -6.730000e-11                2  \n",
       "3   -0.004519 -1.850000e-10                2  \n",
       "4   -0.004519 -6.730000e-11                2  "
      ]
     },
     "execution_count": 99,
     "metadata": {},
     "output_type": "execute_result"
    }
   ],
   "source": [
    "ped_drop_0_25=ped[(ped['Confidence']>=0.25) & (ped['Confidence']<=1)]\n",
    "ped_drop_0_25.head()"
   ]
  },
  {
   "cell_type": "code",
   "execution_count": 100,
   "metadata": {
    "scrolled": true
   },
   "outputs": [
    {
     "data": {
      "image/png": "[encoded data removed]",
      "text/plain": [
       "<Figure size 360x2520 with 1 Axes>"
      ]
     },
     "metadata": {
      "needs_background": "light"
     },
     "output_type": "display_data"
    }
   ],
   "source": [
    "fig,ax=plt.subplots(figsize=[5,35])\n",
    "plt.scatter(x=ped_drop_0_25.groupby('ID')['Velocity_X'].mean(),y=ped_drop_0_25['ID'].unique())\n",
    "plt.xticks(rotation=90)\n",
    "plt.show()"
   ]
  },
  {
   "cell_type": "code",
   "execution_count": 101,
   "metadata": {},
   "outputs": [],
   "source": [
    "Time=ped_drop_0_25[['ID','Timestamp']]"
   ]
  },
  {
   "cell_type": "code",
   "execution_count": 102,
   "metadata": {},
   "outputs": [],
   "source": [
    "T=Time.groupby('ID')['Timestamp'].apply(lambda x:max(x)-min(x))"
   ]
  },
  {
   "cell_type": "code",
   "execution_count": 103,
   "metadata": {},
   "outputs": [
    {
     "data": {
      "text/plain": [
       "Index(['351304', '351305', '351314', '351361', '351363', '351374', '351396',\n",
       "       '351403', '351495', '351549',\n",
       "       ...\n",
       "       '353408', '353446', '353452', '353529', '353533', '353553', '353562',\n",
       "       '353567', '353580', '353584'],\n",
       "      dtype='object', name='ID', length=286)"
      ]
     },
     "execution_count": 103,
     "metadata": {},
     "output_type": "execute_result"
    }
   ],
   "source": [
    "#T=T.reset_index(drop=True)\n",
    "T.index"
   ]
  },
  {
   "cell_type": "code",
   "execution_count": 104,
   "metadata": {},
   "outputs": [],
   "source": [
    "ped_vel=ped_drop_0_25[['ID','Velocity_X']]"
   ]
  },
  {
   "cell_type": "code",
   "execution_count": 105,
   "metadata": {},
   "outputs": [],
   "source": [
    "vel_mean=ped_vel.groupby('ID').mean()"
   ]
  },
  {
   "cell_type": "code",
   "execution_count": 106,
   "metadata": {},
   "outputs": [],
   "source": [
    "df=pd.merge(T,vel_mean,left_index=True,right_index=True)"
   ]
  },
  {
   "cell_type": "code",
   "execution_count": 107,
   "metadata": {},
   "outputs": [
    {
     "data": {
      "text/html": [
       "<div>\n",
       "<style scoped>\n",
       "    .dataframe tbody tr th:only-of-type {\n",
       "        vertical-align: middle;\n",
       "    }\n",
       "\n",
       "    .dataframe tbody tr th {\n",
       "        vertical-align: top;\n",
       "    }\n",
       "\n",
       "    .dataframe thead th {\n",
       "        text-align: right;\n",
       "    }\n",
       "</style>\n",
       "<table border=\"1\" class=\"dataframe\">\n",
       "  <thead>\n",
       "    <tr style=\"text-align: right;\">\n",
       "      <th></th>\n",
       "      <th>Timestamp</th>\n",
       "      <th>Velocity_X</th>\n",
       "    </tr>\n",
       "    <tr>\n",
       "      <th>ID</th>\n",
       "      <th></th>\n",
       "      <th></th>\n",
       "    </tr>\n",
       "  </thead>\n",
       "  <tbody>\n",
       "    <tr>\n",
       "      <th>351304</th>\n",
       "      <td>0 days 00:00:04.656000</td>\n",
       "      <td>-1.435785</td>\n",
       "    </tr>\n",
       "    <tr>\n",
       "      <th>351305</th>\n",
       "      <td>0 days 00:00:01.202000</td>\n",
       "      <td>0.273362</td>\n",
       "    </tr>\n",
       "    <tr>\n",
       "      <th>351314</th>\n",
       "      <td>0 days 00:00:06.480000</td>\n",
       "      <td>-0.014801</td>\n",
       "    </tr>\n",
       "    <tr>\n",
       "      <th>351361</th>\n",
       "      <td>0 days 00:00:00.369000</td>\n",
       "      <td>0.000000</td>\n",
       "    </tr>\n",
       "    <tr>\n",
       "      <th>351363</th>\n",
       "      <td>0 days 00:00:00.465000</td>\n",
       "      <td>0.001567</td>\n",
       "    </tr>\n",
       "  </tbody>\n",
       "</table>\n",
       "</div>"
      ],
      "text/plain": [
       "                    Timestamp  Velocity_X\n",
       "ID                                       \n",
       "351304 0 days 00:00:04.656000   -1.435785\n",
       "351305 0 days 00:00:01.202000    0.273362\n",
       "351314 0 days 00:00:06.480000   -0.014801\n",
       "351361 0 days 00:00:00.369000    0.000000\n",
       "351363 0 days 00:00:00.465000    0.001567"
      ]
     },
     "execution_count": 107,
     "metadata": {},
     "output_type": "execute_result"
    }
   ],
   "source": [
    "df.head()"
   ]
  },
  {
   "cell_type": "code",
   "execution_count": 108,
   "metadata": {},
   "outputs": [
    {
     "name": "stdout",
     "output_type": "stream",
     "text": [
      "<class 'pandas.core.frame.DataFrame'>\n",
      "Index: 286 entries, 351304 to 353584\n",
      "Data columns (total 2 columns):\n",
      " #   Column      Non-Null Count  Dtype          \n",
      "---  ------      --------------  -----          \n",
      " 0   Timestamp   286 non-null    timedelta64[ns]\n",
      " 1   Velocity_X  286 non-null    float64        \n",
      "dtypes: float64(1), timedelta64[ns](1)\n",
      "memory usage: 14.8+ KB\n"
     ]
    }
   ],
   "source": [
    "df.info()"
   ]
  },
  {
   "cell_type": "code",
   "execution_count": 109,
   "metadata": {},
   "outputs": [],
   "source": [
    "df['seconds']=df['Timestamp'].dt.total_seconds()"
   ]
  },
  {
   "cell_type": "code",
   "execution_count": 110,
   "metadata": {},
   "outputs": [
    {
     "data": {
      "text/html": [
       "<div>\n",
       "<style scoped>\n",
       "    .dataframe tbody tr th:only-of-type {\n",
       "        vertical-align: middle;\n",
       "    }\n",
       "\n",
       "    .dataframe tbody tr th {\n",
       "        vertical-align: top;\n",
       "    }\n",
       "\n",
       "    .dataframe thead th {\n",
       "        text-align: right;\n",
       "    }\n",
       "</style>\n",
       "<table border=\"1\" class=\"dataframe\">\n",
       "  <thead>\n",
       "    <tr style=\"text-align: right;\">\n",
       "      <th></th>\n",
       "      <th>Timestamp</th>\n",
       "      <th>Velocity_X</th>\n",
       "      <th>seconds</th>\n",
       "    </tr>\n",
       "    <tr>\n",
       "      <th>ID</th>\n",
       "      <th></th>\n",
       "      <th></th>\n",
       "      <th></th>\n",
       "    </tr>\n",
       "  </thead>\n",
       "  <tbody>\n",
       "    <tr>\n",
       "      <th>351304</th>\n",
       "      <td>0 days 00:00:04.656000</td>\n",
       "      <td>-1.435785</td>\n",
       "      <td>4.656</td>\n",
       "    </tr>\n",
       "    <tr>\n",
       "      <th>351305</th>\n",
       "      <td>0 days 00:00:01.202000</td>\n",
       "      <td>0.273362</td>\n",
       "      <td>1.202</td>\n",
       "    </tr>\n",
       "    <tr>\n",
       "      <th>351314</th>\n",
       "      <td>0 days 00:00:06.480000</td>\n",
       "      <td>-0.014801</td>\n",
       "      <td>6.480</td>\n",
       "    </tr>\n",
       "    <tr>\n",
       "      <th>351361</th>\n",
       "      <td>0 days 00:00:00.369000</td>\n",
       "      <td>0.000000</td>\n",
       "      <td>0.369</td>\n",
       "    </tr>\n",
       "    <tr>\n",
       "      <th>351363</th>\n",
       "      <td>0 days 00:00:00.465000</td>\n",
       "      <td>0.001567</td>\n",
       "      <td>0.465</td>\n",
       "    </tr>\n",
       "  </tbody>\n",
       "</table>\n",
       "</div>"
      ],
      "text/plain": [
       "                    Timestamp  Velocity_X  seconds\n",
       "ID                                                \n",
       "351304 0 days 00:00:04.656000   -1.435785    4.656\n",
       "351305 0 days 00:00:01.202000    0.273362    1.202\n",
       "351314 0 days 00:00:06.480000   -0.014801    6.480\n",
       "351361 0 days 00:00:00.369000    0.000000    0.369\n",
       "351363 0 days 00:00:00.465000    0.001567    0.465"
      ]
     },
     "execution_count": 110,
     "metadata": {},
     "output_type": "execute_result"
    }
   ],
   "source": [
    "df.head()"
   ]
  },
  {
   "cell_type": "code",
   "execution_count": 111,
   "metadata": {},
   "outputs": [
    {
     "data": {
      "text/html": [
       "<div>\n",
       "<style scoped>\n",
       "    .dataframe tbody tr th:only-of-type {\n",
       "        vertical-align: middle;\n",
       "    }\n",
       "\n",
       "    .dataframe tbody tr th {\n",
       "        vertical-align: top;\n",
       "    }\n",
       "\n",
       "    .dataframe thead th {\n",
       "        text-align: right;\n",
       "    }\n",
       "</style>\n",
       "<table border=\"1\" class=\"dataframe\">\n",
       "  <thead>\n",
       "    <tr style=\"text-align: right;\">\n",
       "      <th></th>\n",
       "      <th>Timestamp</th>\n",
       "      <th>Velocity_X</th>\n",
       "      <th>seconds</th>\n",
       "    </tr>\n",
       "    <tr>\n",
       "      <th>ID</th>\n",
       "      <th></th>\n",
       "      <th></th>\n",
       "      <th></th>\n",
       "    </tr>\n",
       "  </thead>\n",
       "  <tbody>\n",
       "    <tr>\n",
       "      <th>351801</th>\n",
       "      <td>0 days 00:00:31.180000</td>\n",
       "      <td>-0.664086</td>\n",
       "      <td>31.180</td>\n",
       "    </tr>\n",
       "    <tr>\n",
       "      <th>351913</th>\n",
       "      <td>0 days 00:00:38.235000</td>\n",
       "      <td>0.045780</td>\n",
       "      <td>38.235</td>\n",
       "    </tr>\n",
       "    <tr>\n",
       "      <th>352052</th>\n",
       "      <td>0 days 00:02:08.726000</td>\n",
       "      <td>0.040780</td>\n",
       "      <td>128.726</td>\n",
       "    </tr>\n",
       "    <tr>\n",
       "      <th>352111</th>\n",
       "      <td>0 days 00:00:25.875000</td>\n",
       "      <td>0.052403</td>\n",
       "      <td>25.875</td>\n",
       "    </tr>\n",
       "    <tr>\n",
       "      <th>352218</th>\n",
       "      <td>0 days 00:00:39.366000</td>\n",
       "      <td>-0.317450</td>\n",
       "      <td>39.366</td>\n",
       "    </tr>\n",
       "    <tr>\n",
       "      <th>352543</th>\n",
       "      <td>0 days 00:00:30.285000</td>\n",
       "      <td>0.293526</td>\n",
       "      <td>30.285</td>\n",
       "    </tr>\n",
       "    <tr>\n",
       "      <th>352592</th>\n",
       "      <td>0 days 00:00:41.213000</td>\n",
       "      <td>0.027755</td>\n",
       "      <td>41.213</td>\n",
       "    </tr>\n",
       "    <tr>\n",
       "      <th>352680</th>\n",
       "      <td>0 days 00:01:10.441000</td>\n",
       "      <td>-0.043820</td>\n",
       "      <td>70.441</td>\n",
       "    </tr>\n",
       "    <tr>\n",
       "      <th>352699</th>\n",
       "      <td>0 days 00:00:40.382000</td>\n",
       "      <td>-0.003833</td>\n",
       "      <td>40.382</td>\n",
       "    </tr>\n",
       "    <tr>\n",
       "      <th>352723</th>\n",
       "      <td>0 days 00:00:44.673000</td>\n",
       "      <td>0.157087</td>\n",
       "      <td>44.673</td>\n",
       "    </tr>\n",
       "    <tr>\n",
       "      <th>352754</th>\n",
       "      <td>0 days 00:00:37.392000</td>\n",
       "      <td>-0.210375</td>\n",
       "      <td>37.392</td>\n",
       "    </tr>\n",
       "    <tr>\n",
       "      <th>352786</th>\n",
       "      <td>0 days 00:00:52.194000</td>\n",
       "      <td>-0.269470</td>\n",
       "      <td>52.194</td>\n",
       "    </tr>\n",
       "    <tr>\n",
       "      <th>352898</th>\n",
       "      <td>0 days 00:00:25.732000</td>\n",
       "      <td>-0.747797</td>\n",
       "      <td>25.732</td>\n",
       "    </tr>\n",
       "    <tr>\n",
       "      <th>352956</th>\n",
       "      <td>0 days 00:00:31.502000</td>\n",
       "      <td>-0.025406</td>\n",
       "      <td>31.502</td>\n",
       "    </tr>\n",
       "    <tr>\n",
       "      <th>353262</th>\n",
       "      <td>0 days 00:00:28.347000</td>\n",
       "      <td>1.138330</td>\n",
       "      <td>28.347</td>\n",
       "    </tr>\n",
       "    <tr>\n",
       "      <th>353408</th>\n",
       "      <td>0 days 00:00:32.008000</td>\n",
       "      <td>0.018586</td>\n",
       "      <td>32.008</td>\n",
       "    </tr>\n",
       "  </tbody>\n",
       "</table>\n",
       "</div>"
      ],
      "text/plain": [
       "                    Timestamp  Velocity_X  seconds\n",
       "ID                                                \n",
       "351801 0 days 00:00:31.180000   -0.664086   31.180\n",
       "351913 0 days 00:00:38.235000    0.045780   38.235\n",
       "352052 0 days 00:02:08.726000    0.040780  128.726\n",
       "352111 0 days 00:00:25.875000    0.052403   25.875\n",
       "352218 0 days 00:00:39.366000   -0.317450   39.366\n",
       "352543 0 days 00:00:30.285000    0.293526   30.285\n",
       "352592 0 days 00:00:41.213000    0.027755   41.213\n",
       "352680 0 days 00:01:10.441000   -0.043820   70.441\n",
       "352699 0 days 00:00:40.382000   -0.003833   40.382\n",
       "352723 0 days 00:00:44.673000    0.157087   44.673\n",
       "352754 0 days 00:00:37.392000   -0.210375   37.392\n",
       "352786 0 days 00:00:52.194000   -0.269470   52.194\n",
       "352898 0 days 00:00:25.732000   -0.747797   25.732\n",
       "352956 0 days 00:00:31.502000   -0.025406   31.502\n",
       "353262 0 days 00:00:28.347000    1.138330   28.347\n",
       "353408 0 days 00:00:32.008000    0.018586   32.008"
      ]
     },
     "execution_count": 111,
     "metadata": {},
     "output_type": "execute_result"
    }
   ],
   "source": [
    "df[df['seconds']>20]"
   ]
  },
  {
   "cell_type": "code",
   "execution_count": 112,
   "metadata": {},
   "outputs": [
    {
     "data": {
      "text/plain": [
       "<matplotlib.collections.PathCollection at 0x17f2692d8b0>"
      ]
     },
     "execution_count": 112,
     "metadata": {},
     "output_type": "execute_result"
    },
    {
     "data": {
      "image/png": "[encoded data removed]",
      "text/plain": [
       "<Figure size 720x720 with 1 Axes>"
      ]
     },
     "metadata": {
      "needs_background": "light"
     },
     "output_type": "display_data"
    }
   ],
   "source": [
    "fig,ax=plt.subplots(figsize=[10,10])\n",
    "plt.scatter(x=df['seconds'],y=df['Velocity_X'])"
   ]
  },
  {
   "cell_type": "code",
   "execution_count": 113,
   "metadata": {},
   "outputs": [
    {
     "name": "stderr",
     "output_type": "stream",
     "text": [
      "C:\\Users\\thenappanz\\OneDrive\\Documents\\pendrive\\lib\\site-packages\\sklearn\\cluster\\_kmeans.py:881: UserWarning: KMeans is known to have a memory leak on Windows with MKL, when there are less chunks than available threads. You can avoid it by setting the environment variable OMP_NUM_THREADS=2.\n",
      "  warnings.warn(\n"
     ]
    }
   ],
   "source": [
    "from sklearn.cluster import KMeans \n",
    "K=range(1,11)\n",
    "sse=[]\n",
    "for i in K:\n",
    "    KM=KMeans(n_clusters=i)\n",
    "    KM.fit_predict(df[['seconds','Velocity_X']])\n",
    "    sse.append(KM.inertia_)\n",
    "    "
   ]
  },
  {
   "cell_type": "code",
   "execution_count": 114,
   "metadata": {},
   "outputs": [
    {
     "data": {
      "text/plain": [
       "[<matplotlib.lines.Line2D at 0x17f26992a60>]"
      ]
     },
     "execution_count": 114,
     "metadata": {},
     "output_type": "execute_result"
    },
    {
     "data": {
      "image/png": "[encoded data removed]",
      "text/plain": [
       "<Figure size 432x288 with 1 Axes>"
      ]
     },
     "metadata": {
      "needs_background": "light"
     },
     "output_type": "display_data"
    }
   ],
   "source": [
    "#fig,ax=plt.subplots(figsize=[5,5])\n",
    "plt.plot(K,sse)"
   ]
  },
  {
   "cell_type": "code",
   "execution_count": 115,
   "metadata": {},
   "outputs": [
    {
     "data": {
      "text/plain": [
       "array([1, 1, 1, 1, 1, 1, 1, 1, 1, 1, 1, 1, 1, 1, 1, 1, 1, 1, 1, 1, 1, 1,\n",
       "       1, 1, 1, 0, 1, 1, 1, 1, 1, 1, 1, 1, 1, 1, 1, 0, 1, 1, 1, 1, 1, 1,\n",
       "       1, 1, 1, 1, 1, 1, 1, 1, 1, 1, 1, 1, 1, 1, 1, 2, 1, 1, 1, 0, 1, 1,\n",
       "       1, 1, 1, 1, 1, 1, 1, 1, 1, 1, 1, 1, 1, 1, 1, 1, 1, 1, 1, 1, 1, 1,\n",
       "       1, 1, 1, 0, 1, 1, 1, 1, 1, 1, 1, 1, 1, 1, 1, 1, 1, 1, 1, 1, 1, 1,\n",
       "       1, 1, 1, 1, 1, 1, 1, 1, 1, 1, 1, 1, 1, 1, 1, 1, 1, 1, 1, 1, 1, 1,\n",
       "       1, 1, 1, 1, 1, 1, 1, 1, 1, 1, 1, 0, 1, 1, 1, 1, 1, 1, 1, 1, 1, 1,\n",
       "       1, 1, 1, 1, 1, 0, 1, 1, 1, 1, 1, 1, 1, 1, 1, 1, 1, 0, 1, 1, 1, 1,\n",
       "       1, 1, 1, 1, 0, 1, 0, 1, 1, 1, 1, 1, 1, 1, 1, 1, 1, 1, 1, 0, 1, 0,\n",
       "       1, 1, 1, 1, 0, 0, 1, 1, 1, 1, 1, 1, 1, 1, 1, 1, 1, 1, 1, 1, 1, 1,\n",
       "       1, 1, 1, 1, 1, 1, 1, 1, 1, 1, 1, 1, 1, 1, 1, 1, 1, 1, 1, 1, 1, 1,\n",
       "       1, 1, 1, 1, 1, 1, 1, 1, 1, 0, 1, 1, 1, 1, 1, 1, 1, 1, 1, 1, 1, 1,\n",
       "       1, 1, 1, 1, 1, 1, 1, 1, 1, 1, 1, 1, 0, 1, 1, 1, 1, 1, 1, 1, 1, 1])"
      ]
     },
     "execution_count": 115,
     "metadata": {},
     "output_type": "execute_result"
    }
   ],
   "source": [
    "    KM=KMeans(n_clusters=3)\n",
    "    n_clusters=KM.fit_predict(df[['seconds','Velocity_X']])\n",
    "    n_clusters"
   ]
  },
  {
   "cell_type": "code",
   "execution_count": 116,
   "metadata": {},
   "outputs": [],
   "source": [
    "df['clusters']=n_clusters"
   ]
  },
  {
   "cell_type": "code",
   "execution_count": 117,
   "metadata": {},
   "outputs": [
    {
     "data": {
      "text/html": [
       "<div>\n",
       "<style scoped>\n",
       "    .dataframe tbody tr th:only-of-type {\n",
       "        vertical-align: middle;\n",
       "    }\n",
       "\n",
       "    .dataframe tbody tr th {\n",
       "        vertical-align: top;\n",
       "    }\n",
       "\n",
       "    .dataframe thead th {\n",
       "        text-align: right;\n",
       "    }\n",
       "</style>\n",
       "<table border=\"1\" class=\"dataframe\">\n",
       "  <thead>\n",
       "    <tr style=\"text-align: right;\">\n",
       "      <th></th>\n",
       "      <th>Timestamp</th>\n",
       "      <th>Velocity_X</th>\n",
       "      <th>seconds</th>\n",
       "      <th>clusters</th>\n",
       "    </tr>\n",
       "    <tr>\n",
       "      <th>ID</th>\n",
       "      <th></th>\n",
       "      <th></th>\n",
       "      <th></th>\n",
       "      <th></th>\n",
       "    </tr>\n",
       "  </thead>\n",
       "  <tbody>\n",
       "    <tr>\n",
       "      <th>351304</th>\n",
       "      <td>0 days 00:00:04.656000</td>\n",
       "      <td>-1.435785</td>\n",
       "      <td>4.656</td>\n",
       "      <td>1</td>\n",
       "    </tr>\n",
       "    <tr>\n",
       "      <th>351305</th>\n",
       "      <td>0 days 00:00:01.202000</td>\n",
       "      <td>0.273362</td>\n",
       "      <td>1.202</td>\n",
       "      <td>1</td>\n",
       "    </tr>\n",
       "    <tr>\n",
       "      <th>351314</th>\n",
       "      <td>0 days 00:00:06.480000</td>\n",
       "      <td>-0.014801</td>\n",
       "      <td>6.480</td>\n",
       "      <td>1</td>\n",
       "    </tr>\n",
       "    <tr>\n",
       "      <th>351361</th>\n",
       "      <td>0 days 00:00:00.369000</td>\n",
       "      <td>0.000000</td>\n",
       "      <td>0.369</td>\n",
       "      <td>1</td>\n",
       "    </tr>\n",
       "    <tr>\n",
       "      <th>351363</th>\n",
       "      <td>0 days 00:00:00.465000</td>\n",
       "      <td>0.001567</td>\n",
       "      <td>0.465</td>\n",
       "      <td>1</td>\n",
       "    </tr>\n",
       "  </tbody>\n",
       "</table>\n",
       "</div>"
      ],
      "text/plain": [
       "                    Timestamp  Velocity_X  seconds  clusters\n",
       "ID                                                          \n",
       "351304 0 days 00:00:04.656000   -1.435785    4.656         1\n",
       "351305 0 days 00:00:01.202000    0.273362    1.202         1\n",
       "351314 0 days 00:00:06.480000   -0.014801    6.480         1\n",
       "351361 0 days 00:00:00.369000    0.000000    0.369         1\n",
       "351363 0 days 00:00:00.465000    0.001567    0.465         1"
      ]
     },
     "execution_count": 117,
     "metadata": {},
     "output_type": "execute_result"
    }
   ],
   "source": [
    "df.head()"
   ]
  },
  {
   "cell_type": "code",
   "execution_count": 122,
   "metadata": {},
   "outputs": [
    {
     "data": {
      "text/plain": [
       "ID\n",
       "351304    False\n",
       "351305    False\n",
       "351314    False\n",
       "351361    False\n",
       "351363    False\n",
       "          ...  \n",
       "353553    False\n",
       "353562    False\n",
       "353567    False\n",
       "353580    False\n",
       "353584    False\n",
       "Name: clusters, Length: 286, dtype: bool"
      ]
     },
     "execution_count": 122,
     "metadata": {},
     "output_type": "execute_result"
    }
   ],
   "source": [
    "df['clusters']==0"
   ]
  },
  {
   "cell_type": "code",
   "execution_count": 127,
   "metadata": {},
   "outputs": [
    {
     "data": {
      "text/plain": [
       "Text(0, 0.5, 'Velocity_X')"
      ]
     },
     "execution_count": 127,
     "metadata": {},
     "output_type": "execute_result"
    },
    {
     "data": {
      "image/png": "[encoded data removed]",
      "text/plain": [
       "<Figure size 432x288 with 1 Axes>"
      ]
     },
     "metadata": {
      "needs_background": "light"
     },
     "output_type": "display_data"
    }
   ],
   "source": [
    "df1=df[df['clusters']==0]\n",
    "df2=df[df['clusters']==1]\n",
    "df3=df[df['clusters']==2]\n",
    "plt.scatter(df1['seconds'],df1['Velocity_X'],color='red')\n",
    "plt.scatter(df2['seconds'],df2['Velocity_X'],color='green')\n",
    "plt.scatter(df3['seconds'],df3['Velocity_X'],color='black')\n",
    "plt.xlabel('seconds')\n",
    "plt.ylabel('Velocity_X')"
   ]
  },
  {
   "cell_type": "code",
   "execution_count": null,
   "metadata": {},
   "outputs": [],
   "source": []
  }
 ],
 "metadata": {
  "kernelspec": {
   "display_name": "Python 3",
   "language": "python",
   "name": "python3"
  },
  "language_info": {
   "codemirror_mode": {
    "name": "ipython",
    "version": 3
   },
   "file_extension": ".py",
   "mimetype": "text/x-python",
   "name": "python",
   "nbconvert_exporter": "python",
   "pygments_lexer": "ipython3",
   "version": "3.7.3"
  }
 },
 "nbformat": 4,
 "nbformat_minor": 5
}
